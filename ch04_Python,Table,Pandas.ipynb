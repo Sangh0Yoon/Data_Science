{
 "cells": [
  {
   "cell_type": "code",
   "execution_count": 24,
   "id": "d882e8e1",
   "metadata": {},
   "outputs": [],
   "source": [
    "from datascience import *\n",
    "import pandas as pd\n",
    "import numpy as np\n",
    "%matplotlib inline\n",
    "import matplotlib.pyplot as plots\n",
    "plots.style.use('fivethirtyeight')"
   ]
  },
  {
   "cell_type": "markdown",
   "id": "d942acac",
   "metadata": {},
   "source": [
    "# Creating Table"
   ]
  },
  {
   "cell_type": "code",
   "execution_count": 25,
   "id": "4c800190",
   "metadata": {},
   "outputs": [
    {
     "data": {
      "text/html": [
       "<table border=\"1\" class=\"dataframe\">\n",
       "    <thead>\n",
       "        <tr>\n",
       "            <th>Number of petals</th>\n",
       "        </tr>\n",
       "    </thead>\n",
       "    <tbody>\n",
       "        <tr>\n",
       "            <td>8               </td>\n",
       "        </tr>\n",
       "        <tr>\n",
       "            <td>34              </td>\n",
       "        </tr>\n",
       "        <tr>\n",
       "            <td>5               </td>\n",
       "        </tr>\n",
       "    </tbody>\n",
       "</table>"
      ],
      "text/plain": [
       "Number of petals\n",
       "8\n",
       "34\n",
       "5"
      ]
     },
     "execution_count": 25,
     "metadata": {},
     "output_type": "execute_result"
    }
   ],
   "source": [
    "Table().with_columns('Number of petals', make_array(8, 34, 5))"
   ]
  },
  {
   "cell_type": "code",
   "execution_count": 26,
   "id": "56e89593",
   "metadata": {},
   "outputs": [
    {
     "data": {
      "text/html": [
       "<div>\n",
       "<style scoped>\n",
       "    .dataframe tbody tr th:only-of-type {\n",
       "        vertical-align: middle;\n",
       "    }\n",
       "\n",
       "    .dataframe tbody tr th {\n",
       "        vertical-align: top;\n",
       "    }\n",
       "\n",
       "    .dataframe thead th {\n",
       "        text-align: right;\n",
       "    }\n",
       "</style>\n",
       "<table border=\"1\" class=\"dataframe\">\n",
       "  <thead>\n",
       "    <tr style=\"text-align: right;\">\n",
       "      <th></th>\n",
       "      <th>Number of petals</th>\n",
       "    </tr>\n",
       "  </thead>\n",
       "  <tbody>\n",
       "    <tr>\n",
       "      <th>0</th>\n",
       "      <td>8</td>\n",
       "    </tr>\n",
       "    <tr>\n",
       "      <th>1</th>\n",
       "      <td>34</td>\n",
       "    </tr>\n",
       "    <tr>\n",
       "      <th>2</th>\n",
       "      <td>5</td>\n",
       "    </tr>\n",
       "  </tbody>\n",
       "</table>\n",
       "</div>"
      ],
      "text/plain": [
       "   Number of petals\n",
       "0                 8\n",
       "1                34\n",
       "2                 5"
      ]
     },
     "execution_count": 26,
     "metadata": {},
     "output_type": "execute_result"
    }
   ],
   "source": [
    "# pandas \n",
    "pd.DataFrame([8,34,5], columns=['Number of petals'])"
   ]
  },
  {
   "cell_type": "code",
   "execution_count": 27,
   "id": "49057e64",
   "metadata": {
    "scrolled": true
   },
   "outputs": [
    {
     "data": {
      "text/html": [
       "<div>\n",
       "<style scoped>\n",
       "    .dataframe tbody tr th:only-of-type {\n",
       "        vertical-align: middle;\n",
       "    }\n",
       "\n",
       "    .dataframe tbody tr th {\n",
       "        vertical-align: top;\n",
       "    }\n",
       "\n",
       "    .dataframe thead th {\n",
       "        text-align: right;\n",
       "    }\n",
       "</style>\n",
       "<table border=\"1\" class=\"dataframe\">\n",
       "  <thead>\n",
       "    <tr style=\"text-align: right;\">\n",
       "      <th></th>\n",
       "      <th>Number of petals</th>\n",
       "    </tr>\n",
       "  </thead>\n",
       "  <tbody>\n",
       "    <tr>\n",
       "      <th>0</th>\n",
       "      <td>8</td>\n",
       "    </tr>\n",
       "    <tr>\n",
       "      <th>1</th>\n",
       "      <td>34</td>\n",
       "    </tr>\n",
       "    <tr>\n",
       "      <th>2</th>\n",
       "      <td>5</td>\n",
       "    </tr>\n",
       "  </tbody>\n",
       "</table>\n",
       "</div>"
      ],
      "text/plain": [
       "   Number of petals\n",
       "0                 8\n",
       "1                34\n",
       "2                 5"
      ]
     },
     "execution_count": 27,
     "metadata": {},
     "output_type": "execute_result"
    }
   ],
   "source": [
    "pd.DataFrame({'Number of petals':[8,34,5]})"
   ]
  },
  {
   "cell_type": "code",
   "execution_count": 28,
   "id": "34b59045",
   "metadata": {},
   "outputs": [
    {
     "data": {
      "text/html": [
       "<div>\n",
       "<style scoped>\n",
       "    .dataframe tbody tr th:only-of-type {\n",
       "        vertical-align: middle;\n",
       "    }\n",
       "\n",
       "    .dataframe tbody tr th {\n",
       "        vertical-align: top;\n",
       "    }\n",
       "\n",
       "    .dataframe thead th {\n",
       "        text-align: right;\n",
       "    }\n",
       "</style>\n",
       "<table border=\"1\" class=\"dataframe\">\n",
       "  <thead>\n",
       "    <tr style=\"text-align: right;\">\n",
       "      <th></th>\n",
       "      <th>Number of petals</th>\n",
       "    </tr>\n",
       "  </thead>\n",
       "  <tbody>\n",
       "    <tr>\n",
       "      <th>0</th>\n",
       "      <td>8</td>\n",
       "    </tr>\n",
       "    <tr>\n",
       "      <th>1</th>\n",
       "      <td>34</td>\n",
       "    </tr>\n",
       "    <tr>\n",
       "      <th>2</th>\n",
       "      <td>5</td>\n",
       "    </tr>\n",
       "  </tbody>\n",
       "</table>\n",
       "</div>"
      ],
      "text/plain": [
       "   Number of petals\n",
       "0                 8\n",
       "1                34\n",
       "2                 5"
      ]
     },
     "execution_count": 28,
     "metadata": {},
     "output_type": "execute_result"
    }
   ],
   "source": [
    "d = {'Number of petals':[8,34,5]} #dictionary\n",
    "pd.DataFrame(data=d)"
   ]
  },
  {
   "cell_type": "markdown",
   "id": "959dca4c",
   "metadata": {},
   "source": [
    "----------------"
   ]
  },
  {
   "cell_type": "markdown",
   "id": "39012cd7",
   "metadata": {},
   "source": [
    "# Creating a table with two colums"
   ]
  },
  {
   "cell_type": "code",
   "execution_count": 29,
   "id": "1b895816",
   "metadata": {},
   "outputs": [
    {
     "data": {
      "text/html": [
       "<table border=\"1\" class=\"dataframe\">\n",
       "    <thead>\n",
       "        <tr>\n",
       "            <th>Number of petals</th> <th>Name</th>\n",
       "        </tr>\n",
       "    </thead>\n",
       "    <tbody>\n",
       "        <tr>\n",
       "            <td>8               </td> <td>lotus                                      </td>\n",
       "        </tr>\n",
       "        <tr>\n",
       "            <td>34              </td> <td>s# Creating a table with two columsunflower</td>\n",
       "        </tr>\n",
       "        <tr>\n",
       "            <td>5               </td> <td>rose                                       </td>\n",
       "        </tr>\n",
       "    </tbody>\n",
       "</table>"
      ],
      "text/plain": [
       "Number of petals | Name\n",
       "8                | lotus\n",
       "34               | s# Creating a table with two columsunflower\n",
       "5                | rose"
      ]
     },
     "execution_count": 29,
     "metadata": {},
     "output_type": "execute_result"
    }
   ],
   "source": [
    "Table().with_columns(\n",
    "'Number of petals', make_array(8, 34, 5),\n",
    "'Name', make_array('lotus', 's# Creating a table with two columsunflower', 'rose')\n",
    ")"
   ]
  },
  {
   "cell_type": "code",
   "execution_count": 30,
   "id": "ba5b3387",
   "metadata": {},
   "outputs": [
    {
     "data": {
      "text/html": [
       "<div>\n",
       "<style scoped>\n",
       "    .dataframe tbody tr th:only-of-type {\n",
       "        vertical-align: middle;\n",
       "    }\n",
       "\n",
       "    .dataframe tbody tr th {\n",
       "        vertical-align: top;\n",
       "    }\n",
       "\n",
       "    .dataframe thead th {\n",
       "        text-align: right;\n",
       "    }\n",
       "</style>\n",
       "<table border=\"1\" class=\"dataframe\">\n",
       "  <thead>\n",
       "    <tr style=\"text-align: right;\">\n",
       "      <th></th>\n",
       "      <th>Number of petals</th>\n",
       "      <th>Name</th>\n",
       "    </tr>\n",
       "  </thead>\n",
       "  <tbody>\n",
       "    <tr>\n",
       "      <th>0</th>\n",
       "      <td>8</td>\n",
       "      <td>lotus</td>\n",
       "    </tr>\n",
       "    <tr>\n",
       "      <th>1</th>\n",
       "      <td>34</td>\n",
       "      <td>sunflower</td>\n",
       "    </tr>\n",
       "    <tr>\n",
       "      <th>2</th>\n",
       "      <td>5</td>\n",
       "      <td>rose</td>\n",
       "    </tr>\n",
       "  </tbody>\n",
       "</table>\n",
       "</div>"
      ],
      "text/plain": [
       "   Number of petals       Name\n",
       "0                 8      lotus\n",
       "1                34  sunflower\n",
       "2                 5       rose"
      ]
     },
     "execution_count": 30,
     "metadata": {},
     "output_type": "execute_result"
    }
   ],
   "source": [
    "pd.DataFrame(data = [[8,'lotus'],[34,'sunflower'],[5,'rose']], \n",
    "columns=['Number of petals', 'Name'])"
   ]
  },
  {
   "cell_type": "code",
   "execution_count": 31,
   "id": "78a1537b",
   "metadata": {},
   "outputs": [
    {
     "data": {
      "text/html": [
       "<div>\n",
       "<style scoped>\n",
       "    .dataframe tbody tr th:only-of-type {\n",
       "        vertical-align: middle;\n",
       "    }\n",
       "\n",
       "    .dataframe tbody tr th {\n",
       "        vertical-align: top;\n",
       "    }\n",
       "\n",
       "    .dataframe thead th {\n",
       "        text-align: right;\n",
       "    }\n",
       "</style>\n",
       "<table border=\"1\" class=\"dataframe\">\n",
       "  <thead>\n",
       "    <tr style=\"text-align: right;\">\n",
       "      <th></th>\n",
       "      <th>Number of petals</th>\n",
       "      <th>Name</th>\n",
       "    </tr>\n",
       "  </thead>\n",
       "  <tbody>\n",
       "    <tr>\n",
       "      <th>0</th>\n",
       "      <td>8</td>\n",
       "      <td>lotus</td>\n",
       "    </tr>\n",
       "    <tr>\n",
       "      <th>1</th>\n",
       "      <td>34</td>\n",
       "      <td>sunflower</td>\n",
       "    </tr>\n",
       "    <tr>\n",
       "      <th>2</th>\n",
       "      <td>5</td>\n",
       "      <td>rose</td>\n",
       "    </tr>\n",
       "  </tbody>\n",
       "</table>\n",
       "</div>"
      ],
      "text/plain": [
       "   Number of petals       Name\n",
       "0                 8      lotus\n",
       "1                34  sunflower\n",
       "2                 5       rose"
      ]
     },
     "execution_count": 31,
     "metadata": {},
     "output_type": "execute_result"
    }
   ],
   "source": [
    "pd.DataFrame({'Number of petals':[8,34,5],\n",
    "'Name':['lotus','sunflower','rose']})\n"
   ]
  },
  {
   "cell_type": "markdown",
   "id": "37fa34f5",
   "metadata": {},
   "source": [
    "----------------"
   ]
  },
  {
   "cell_type": "markdown",
   "id": "67922537",
   "metadata": {},
   "source": [
    "# Adding a new column to an existing table"
   ]
  },
  {
   "cell_type": "markdown",
   "id": "cedf1cfa",
   "metadata": {},
   "source": [
    "with_columns 는 저장하지 않으면 원본 데이터를 바꾸지 않는다"
   ]
  },
  {
   "cell_type": "code",
   "execution_count": 32,
   "id": "bab5d8c4",
   "metadata": {},
   "outputs": [
    {
     "data": {
      "text/html": [
       "<table border=\"1\" class=\"dataframe\">\n",
       "    <thead>\n",
       "        <tr>\n",
       "            <th>Number of petals</th> <th>Name</th> <th>Color</th>\n",
       "        </tr>\n",
       "    </thead>\n",
       "    <tbody>\n",
       "        <tr>\n",
       "            <td>8               </td> <td>lotus    </td> <td>pink  </td>\n",
       "        </tr>\n",
       "        <tr>\n",
       "            <td>34              </td> <td>sunflower</td> <td>yellow</td>\n",
       "        </tr>\n",
       "        <tr>\n",
       "            <td>5               </td> <td>rose     </td> <td>red   </td>\n",
       "        </tr>\n",
       "    </tbody>\n",
       "</table>"
      ],
      "text/plain": [
       "Number of petals | Name      | Color\n",
       "8                | lotus     | pink\n",
       "34               | sunflower | yellow\n",
       "5                | rose      | red"
      ]
     },
     "execution_count": 32,
     "metadata": {},
     "output_type": "execute_result"
    }
   ],
   "source": [
    "flowers = Table().with_columns(\n",
    "'Number of petals', make_array(8, 34, 5),\n",
    "'Name', make_array('lotus', 'sunflower', 'rose'))\n",
    "flowers.with_columns(\n",
    "'Color', make_array('pink', 'yellow', 'red'))"
   ]
  },
  {
   "cell_type": "code",
   "execution_count": 33,
   "id": "bce50a2e",
   "metadata": {},
   "outputs": [
    {
     "name": "stdout",
     "output_type": "stream",
     "text": [
      "   Number of petals       Name   Color\n",
      "0                 8      lotus    pink\n",
      "1                34  sunflower  yellow\n",
      "2                 5       rose     red\n"
     ]
    }
   ],
   "source": [
    "flowers_df = pd.DataFrame({'Number of petals':[8,34,5], \n",
    "'Name':['lotus','sunflower','rose']})\n",
    "flowers_df.insert(2, 'Color', ['pink','yellow','red'])\n",
    "print(flowers_df)"
   ]
  },
  {
   "cell_type": "code",
   "execution_count": 34,
   "id": "b1333a94",
   "metadata": {},
   "outputs": [
    {
     "name": "stdout",
     "output_type": "stream",
     "text": [
      "Number of petals | Name\n",
      "8                | lotus\n",
      "34               | sunflower\n",
      "5                | rose\n",
      "   Number of petals       Name   Color\n",
      "0                 8      lotus    pink\n",
      "1                34  sunflower  yellow\n",
      "2                 5       rose     red\n"
     ]
    }
   ],
   "source": [
    "flowers_df['Color'] = ['pink','yellow','red']\n",
    "print(flowers)\n",
    "print(flowers_df)"
   ]
  },
  {
   "cell_type": "markdown",
   "id": "bae59be6",
   "metadata": {},
   "source": [
    "----------------"
   ]
  },
  {
   "cell_type": "markdown",
   "id": "93bac78d",
   "metadata": {},
   "source": [
    "# Creating a Table from a CSV file"
   ]
  },
  {
   "cell_type": "code",
   "execution_count": 35,
   "id": "e6f9cde0",
   "metadata": {},
   "outputs": [
    {
     "data": {
      "text/html": [
       "<table border=\"1\" class=\"dataframe\">\n",
       "    <thead>\n",
       "        <tr>\n",
       "            <th>Longitude</th> <th>Latitude</th> <th>City</th> <th>Direction</th> <th>Survivors</th>\n",
       "        </tr>\n",
       "    </thead>\n",
       "    <tbody>\n",
       "        <tr>\n",
       "            <td>32       </td> <td>54.8    </td> <td>Smolensk   </td> <td>Advance  </td> <td>145000   </td>\n",
       "        </tr>\n",
       "        <tr>\n",
       "            <td>33.2     </td> <td>54.9    </td> <td>Dorogobouge</td> <td>Advance  </td> <td>140000   </td>\n",
       "        </tr>\n",
       "        <tr>\n",
       "            <td>34.4     </td> <td>55.5    </td> <td>Chjat      </td> <td>Advance  </td> <td>127100   </td>\n",
       "        </tr>\n",
       "        <tr>\n",
       "            <td>37.6     </td> <td>55.8    </td> <td>Moscou     </td> <td>Advance  </td> <td>100000   </td>\n",
       "        </tr>\n",
       "        <tr>\n",
       "            <td>34.3     </td> <td>55.2    </td> <td>Wixma      </td> <td>Retreat  </td> <td>55000    </td>\n",
       "        </tr>\n",
       "        <tr>\n",
       "            <td>32       </td> <td>54.6    </td> <td>Smolensk   </td> <td>Retreat  </td> <td>24000    </td>\n",
       "        </tr>\n",
       "        <tr>\n",
       "            <td>30.4     </td> <td>54.4    </td> <td>Orscha     </td> <td>Retreat  </td> <td>20000    </td>\n",
       "        </tr>\n",
       "        <tr>\n",
       "            <td>26.8     </td> <td>54.3    </td> <td>Moiodexno  </td> <td>Retreat  </td> <td>12000    </td>\n",
       "        </tr>\n",
       "    </tbody>\n",
       "</table>"
      ],
      "text/plain": [
       "Longitude | Latitude | City        | Direction | Survivors\n",
       "32        | 54.8     | Smolensk    | Advance   | 145000\n",
       "33.2      | 54.9     | Dorogobouge | Advance   | 140000\n",
       "34.4      | 55.5     | Chjat       | Advance   | 127100\n",
       "37.6      | 55.8     | Moscou      | Advance   | 100000\n",
       "34.3      | 55.2     | Wixma       | Retreat   | 55000\n",
       "32        | 54.6     | Smolensk    | Retreat   | 24000\n",
       "30.4      | 54.4     | Orscha      | Retreat   | 20000\n",
       "26.8      | 54.3     | Moiodexno   | Retreat   | 12000"
      ]
     },
     "execution_count": 35,
     "metadata": {},
     "output_type": "execute_result"
    }
   ],
   "source": [
    "tbl = Table()\n",
    "tbl = tbl.read_table('minard.csv')\n",
    "tbl"
   ]
  },
  {
   "cell_type": "code",
   "execution_count": 36,
   "id": "525f50f8",
   "metadata": {},
   "outputs": [
    {
     "data": {
      "text/html": [
       "<div>\n",
       "<style scoped>\n",
       "    .dataframe tbody tr th:only-of-type {\n",
       "        vertical-align: middle;\n",
       "    }\n",
       "\n",
       "    .dataframe tbody tr th {\n",
       "        vertical-align: top;\n",
       "    }\n",
       "\n",
       "    .dataframe thead th {\n",
       "        text-align: right;\n",
       "    }\n",
       "</style>\n",
       "<table border=\"1\" class=\"dataframe\">\n",
       "  <thead>\n",
       "    <tr style=\"text-align: right;\">\n",
       "      <th></th>\n",
       "      <th>Longitude</th>\n",
       "      <th>Latitude</th>\n",
       "      <th>City</th>\n",
       "      <th>Direction</th>\n",
       "      <th>Survivors</th>\n",
       "    </tr>\n",
       "  </thead>\n",
       "  <tbody>\n",
       "    <tr>\n",
       "      <th>0</th>\n",
       "      <td>32.0</td>\n",
       "      <td>54.8</td>\n",
       "      <td>Smolensk</td>\n",
       "      <td>Advance</td>\n",
       "      <td>145000</td>\n",
       "    </tr>\n",
       "    <tr>\n",
       "      <th>1</th>\n",
       "      <td>33.2</td>\n",
       "      <td>54.9</td>\n",
       "      <td>Dorogobouge</td>\n",
       "      <td>Advance</td>\n",
       "      <td>140000</td>\n",
       "    </tr>\n",
       "    <tr>\n",
       "      <th>2</th>\n",
       "      <td>34.4</td>\n",
       "      <td>55.5</td>\n",
       "      <td>Chjat</td>\n",
       "      <td>Advance</td>\n",
       "      <td>127100</td>\n",
       "    </tr>\n",
       "    <tr>\n",
       "      <th>3</th>\n",
       "      <td>37.6</td>\n",
       "      <td>55.8</td>\n",
       "      <td>Moscou</td>\n",
       "      <td>Advance</td>\n",
       "      <td>100000</td>\n",
       "    </tr>\n",
       "  </tbody>\n",
       "</table>\n",
       "</div>"
      ],
      "text/plain": [
       "   Longitude  Latitude         City Direction  Survivors\n",
       "0       32.0      54.8     Smolensk   Advance     145000\n",
       "1       33.2      54.9  Dorogobouge   Advance     140000\n",
       "2       34.4      55.5        Chjat   Advance     127100\n",
       "3       37.6      55.8       Moscou   Advance     100000"
      ]
     },
     "execution_count": 36,
     "metadata": {},
     "output_type": "execute_result"
    }
   ],
   "source": [
    "df_1 = pd.read_csv('minard.csv')\n",
    "df_2 = pd.read_table('minard.csv',sep=',')\n",
    "df_1.head(4) # tbl.show(4)"
   ]
  },
  {
   "cell_type": "code",
   "execution_count": 37,
   "id": "e7fddd2d",
   "metadata": {},
   "outputs": [
    {
     "data": {
      "text/html": [
       "<div>\n",
       "<style scoped>\n",
       "    .dataframe tbody tr th:only-of-type {\n",
       "        vertical-align: middle;\n",
       "    }\n",
       "\n",
       "    .dataframe tbody tr th {\n",
       "        vertical-align: top;\n",
       "    }\n",
       "\n",
       "    .dataframe thead th {\n",
       "        text-align: right;\n",
       "    }\n",
       "</style>\n",
       "<table border=\"1\" class=\"dataframe\">\n",
       "  <thead>\n",
       "    <tr style=\"text-align: right;\">\n",
       "      <th></th>\n",
       "      <th>Longitude</th>\n",
       "      <th>Latitude</th>\n",
       "      <th>City</th>\n",
       "      <th>Direction</th>\n",
       "      <th>Survivors</th>\n",
       "    </tr>\n",
       "  </thead>\n",
       "  <tbody>\n",
       "    <tr>\n",
       "      <th>0</th>\n",
       "      <td>32.0</td>\n",
       "      <td>54.8</td>\n",
       "      <td>Smolensk</td>\n",
       "      <td>Advance</td>\n",
       "      <td>145000</td>\n",
       "    </tr>\n",
       "    <tr>\n",
       "      <th>1</th>\n",
       "      <td>33.2</td>\n",
       "      <td>54.9</td>\n",
       "      <td>Dorogobouge</td>\n",
       "      <td>Advance</td>\n",
       "      <td>140000</td>\n",
       "    </tr>\n",
       "    <tr>\n",
       "      <th>2</th>\n",
       "      <td>34.4</td>\n",
       "      <td>55.5</td>\n",
       "      <td>Chjat</td>\n",
       "      <td>Advance</td>\n",
       "      <td>127100</td>\n",
       "    </tr>\n",
       "    <tr>\n",
       "      <th>3</th>\n",
       "      <td>37.6</td>\n",
       "      <td>55.8</td>\n",
       "      <td>Moscou</td>\n",
       "      <td>Advance</td>\n",
       "      <td>100000</td>\n",
       "    </tr>\n",
       "    <tr>\n",
       "      <th>4</th>\n",
       "      <td>34.3</td>\n",
       "      <td>55.2</td>\n",
       "      <td>Wixma</td>\n",
       "      <td>Retreat</td>\n",
       "      <td>55000</td>\n",
       "    </tr>\n",
       "    <tr>\n",
       "      <th>5</th>\n",
       "      <td>32.0</td>\n",
       "      <td>54.6</td>\n",
       "      <td>Smolensk</td>\n",
       "      <td>Retreat</td>\n",
       "      <td>24000</td>\n",
       "    </tr>\n",
       "    <tr>\n",
       "      <th>6</th>\n",
       "      <td>30.4</td>\n",
       "      <td>54.4</td>\n",
       "      <td>Orscha</td>\n",
       "      <td>Retreat</td>\n",
       "      <td>20000</td>\n",
       "    </tr>\n",
       "    <tr>\n",
       "      <th>7</th>\n",
       "      <td>26.8</td>\n",
       "      <td>54.3</td>\n",
       "      <td>Moiodexno</td>\n",
       "      <td>Retreat</td>\n",
       "      <td>12000</td>\n",
       "    </tr>\n",
       "  </tbody>\n",
       "</table>\n",
       "</div>"
      ],
      "text/plain": [
       "   Longitude  Latitude         City Direction  Survivors\n",
       "0       32.0      54.8     Smolensk   Advance     145000\n",
       "1       33.2      54.9  Dorogobouge   Advance     140000\n",
       "2       34.4      55.5        Chjat   Advance     127100\n",
       "3       37.6      55.8       Moscou   Advance     100000\n",
       "4       34.3      55.2        Wixma   Retreat      55000\n",
       "5       32.0      54.6     Smolensk   Retreat      24000\n",
       "6       30.4      54.4       Orscha   Retreat      20000\n",
       "7       26.8      54.3    Moiodexno   Retreat      12000"
      ]
     },
     "execution_count": 37,
     "metadata": {},
     "output_type": "execute_result"
    }
   ],
   "source": [
    "df_2"
   ]
  },
  {
   "cell_type": "markdown",
   "id": "d525690c",
   "metadata": {},
   "source": [
    "----------------"
   ]
  },
  {
   "cell_type": "markdown",
   "id": "373f0451",
   "metadata": {},
   "source": [
    "# The Size of the Table"
   ]
  },
  {
   "cell_type": "code",
   "execution_count": 38,
   "id": "2e88b25e",
   "metadata": {},
   "outputs": [
    {
     "data": {
      "text/plain": [
       "5"
      ]
     },
     "execution_count": 38,
     "metadata": {},
     "output_type": "execute_result"
    }
   ],
   "source": [
    "tbl.num_columns"
   ]
  },
  {
   "cell_type": "code",
   "execution_count": 39,
   "id": "573707fa",
   "metadata": {},
   "outputs": [
    {
     "data": {
      "text/plain": [
       "8"
      ]
     },
     "execution_count": 39,
     "metadata": {},
     "output_type": "execute_result"
    }
   ],
   "source": [
    "tbl.num_rows"
   ]
  },
  {
   "cell_type": "markdown",
   "id": "6a8e5356",
   "metadata": {},
   "source": [
    "deep copy는 df_1에 변경이 발생해도, df에는 영향이 없음 "
   ]
  },
  {
   "cell_type": "code",
   "execution_count": 40,
   "id": "2e986c34",
   "metadata": {},
   "outputs": [
    {
     "data": {
      "text/plain": [
       "(8, 5)"
      ]
     },
     "execution_count": 40,
     "metadata": {},
     "output_type": "execute_result"
    }
   ],
   "source": [
    "df = df_1.copy(deep=True)\n",
    "df.shape"
   ]
  },
  {
   "cell_type": "markdown",
   "id": "f1de7920",
   "metadata": {},
   "source": [
    "-------------"
   ]
  },
  {
   "cell_type": "markdown",
   "id": "2dc4a420",
   "metadata": {},
   "source": [
    "# Accessing column labels"
   ]
  },
  {
   "cell_type": "code",
   "execution_count": 41,
   "id": "ed2bf5f9",
   "metadata": {},
   "outputs": [
    {
     "data": {
      "text/plain": [
       "('Longitude', 'Latitude', 'City', 'Direction', 'Survivors')"
      ]
     },
     "execution_count": 41,
     "metadata": {},
     "output_type": "execute_result"
    }
   ],
   "source": [
    "tbl.labels"
   ]
  },
  {
   "cell_type": "code",
   "execution_count": 42,
   "id": "7c9727e8",
   "metadata": {},
   "outputs": [
    {
     "data": {
      "text/plain": [
       "Index(['Longitude', 'Latitude', 'City', 'Direction', 'Survivors'], dtype='object')"
      ]
     },
     "execution_count": 42,
     "metadata": {},
     "output_type": "execute_result"
    }
   ],
   "source": [
    "df.columns"
   ]
  },
  {
   "cell_type": "markdown",
   "id": "178a579c",
   "metadata": {},
   "source": [
    "---"
   ]
  },
  {
   "cell_type": "markdown",
   "id": "e1d78cf4",
   "metadata": {},
   "source": [
    "# Replacing column labels"
   ]
  },
  {
   "cell_type": "code",
   "execution_count": 43,
   "id": "860d52e2",
   "metadata": {},
   "outputs": [
    {
     "data": {
      "text/html": [
       "<table border=\"1\" class=\"dataframe\">\n",
       "    <thead>\n",
       "        <tr>\n",
       "            <th>Longitude</th> <th>Latitude</th> <th>City Name</th> <th>Direction</th> <th>Survivors</th>\n",
       "        </tr>\n",
       "    </thead>\n",
       "    <tbody>\n",
       "        <tr>\n",
       "            <td>32       </td> <td>54.8    </td> <td>Smolensk   </td> <td>Advance  </td> <td>145000   </td>\n",
       "        </tr>\n",
       "        <tr>\n",
       "            <td>33.2     </td> <td>54.9    </td> <td>Dorogobouge</td> <td>Advance  </td> <td>140000   </td>\n",
       "        </tr>\n",
       "        <tr>\n",
       "            <td>34.4     </td> <td>55.5    </td> <td>Chjat      </td> <td>Advance  </td> <td>127100   </td>\n",
       "        </tr>\n",
       "        <tr>\n",
       "            <td>37.6     </td> <td>55.8    </td> <td>Moscou     </td> <td>Advance  </td> <td>100000   </td>\n",
       "        </tr>\n",
       "        <tr>\n",
       "            <td>34.3     </td> <td>55.2    </td> <td>Wixma      </td> <td>Retreat  </td> <td>55000    </td>\n",
       "        </tr>\n",
       "        <tr>\n",
       "            <td>32       </td> <td>54.6    </td> <td>Smolensk   </td> <td>Retreat  </td> <td>24000    </td>\n",
       "        </tr>\n",
       "        <tr>\n",
       "            <td>30.4     </td> <td>54.4    </td> <td>Orscha     </td> <td>Retreat  </td> <td>20000    </td>\n",
       "        </tr>\n",
       "        <tr>\n",
       "            <td>26.8     </td> <td>54.3    </td> <td>Moiodexno  </td> <td>Retreat  </td> <td>12000    </td>\n",
       "        </tr>\n",
       "    </tbody>\n",
       "</table>"
      ],
      "text/plain": [
       "Longitude | Latitude | City Name   | Direction | Survivors\n",
       "32        | 54.8     | Smolensk    | Advance   | 145000\n",
       "33.2      | 54.9     | Dorogobouge | Advance   | 140000\n",
       "34.4      | 55.5     | Chjat       | Advance   | 127100\n",
       "37.6      | 55.8     | Moscou      | Advance   | 100000\n",
       "34.3      | 55.2     | Wixma       | Retreat   | 55000\n",
       "32        | 54.6     | Smolensk    | Retreat   | 24000\n",
       "30.4      | 54.4     | Orscha      | Retreat   | 20000\n",
       "26.8      | 54.3     | Moiodexno   | Retreat   | 12000"
      ]
     },
     "execution_count": 43,
     "metadata": {},
     "output_type": "execute_result"
    }
   ],
   "source": [
    "tbl = tbl.relabeled('City', 'City Name')\n",
    "tbl"
   ]
  },
  {
   "cell_type": "markdown",
   "id": "8d5e8823",
   "metadata": {},
   "source": [
    "inplace = true 는 새로 생성되는 데이터프레임을 원본데이터 프레임에 반영하겠다는 것"
   ]
  },
  {
   "cell_type": "code",
   "execution_count": 44,
   "id": "fb2bd765",
   "metadata": {},
   "outputs": [
    {
     "data": {
      "text/html": [
       "<div>\n",
       "<style scoped>\n",
       "    .dataframe tbody tr th:only-of-type {\n",
       "        vertical-align: middle;\n",
       "    }\n",
       "\n",
       "    .dataframe tbody tr th {\n",
       "        vertical-align: top;\n",
       "    }\n",
       "\n",
       "    .dataframe thead th {\n",
       "        text-align: right;\n",
       "    }\n",
       "</style>\n",
       "<table border=\"1\" class=\"dataframe\">\n",
       "  <thead>\n",
       "    <tr style=\"text-align: right;\">\n",
       "      <th></th>\n",
       "      <th>Longitude</th>\n",
       "      <th>Latitude</th>\n",
       "      <th>City Name</th>\n",
       "      <th>Direction</th>\n",
       "      <th>Survivors</th>\n",
       "    </tr>\n",
       "  </thead>\n",
       "  <tbody>\n",
       "    <tr>\n",
       "      <th>0</th>\n",
       "      <td>32.0</td>\n",
       "      <td>54.8</td>\n",
       "      <td>Smolensk</td>\n",
       "      <td>Advance</td>\n",
       "      <td>145000</td>\n",
       "    </tr>\n",
       "    <tr>\n",
       "      <th>1</th>\n",
       "      <td>33.2</td>\n",
       "      <td>54.9</td>\n",
       "      <td>Dorogobouge</td>\n",
       "      <td>Advance</td>\n",
       "      <td>140000</td>\n",
       "    </tr>\n",
       "    <tr>\n",
       "      <th>2</th>\n",
       "      <td>34.4</td>\n",
       "      <td>55.5</td>\n",
       "      <td>Chjat</td>\n",
       "      <td>Advance</td>\n",
       "      <td>127100</td>\n",
       "    </tr>\n",
       "    <tr>\n",
       "      <th>3</th>\n",
       "      <td>37.6</td>\n",
       "      <td>55.8</td>\n",
       "      <td>Moscou</td>\n",
       "      <td>Advance</td>\n",
       "      <td>100000</td>\n",
       "    </tr>\n",
       "    <tr>\n",
       "      <th>4</th>\n",
       "      <td>34.3</td>\n",
       "      <td>55.2</td>\n",
       "      <td>Wixma</td>\n",
       "      <td>Retreat</td>\n",
       "      <td>55000</td>\n",
       "    </tr>\n",
       "    <tr>\n",
       "      <th>5</th>\n",
       "      <td>32.0</td>\n",
       "      <td>54.6</td>\n",
       "      <td>Smolensk</td>\n",
       "      <td>Retreat</td>\n",
       "      <td>24000</td>\n",
       "    </tr>\n",
       "    <tr>\n",
       "      <th>6</th>\n",
       "      <td>30.4</td>\n",
       "      <td>54.4</td>\n",
       "      <td>Orscha</td>\n",
       "      <td>Retreat</td>\n",
       "      <td>20000</td>\n",
       "    </tr>\n",
       "    <tr>\n",
       "      <th>7</th>\n",
       "      <td>26.8</td>\n",
       "      <td>54.3</td>\n",
       "      <td>Moiodexno</td>\n",
       "      <td>Retreat</td>\n",
       "      <td>12000</td>\n",
       "    </tr>\n",
       "  </tbody>\n",
       "</table>\n",
       "</div>"
      ],
      "text/plain": [
       "   Longitude  Latitude    City Name Direction  Survivors\n",
       "0       32.0      54.8     Smolensk   Advance     145000\n",
       "1       33.2      54.9  Dorogobouge   Advance     140000\n",
       "2       34.4      55.5        Chjat   Advance     127100\n",
       "3       37.6      55.8       Moscou   Advance     100000\n",
       "4       34.3      55.2        Wixma   Retreat      55000\n",
       "5       32.0      54.6     Smolensk   Retreat      24000\n",
       "6       30.4      54.4       Orscha   Retreat      20000\n",
       "7       26.8      54.3    Moiodexno   Retreat      12000"
      ]
     },
     "execution_count": 44,
     "metadata": {},
     "output_type": "execute_result"
    }
   ],
   "source": [
    "df.rename(columns={'City':'City Name'}, inplace = True)\n",
    "df"
   ]
  },
  {
   "cell_type": "code",
   "execution_count": 45,
   "id": "42513e9f",
   "metadata": {},
   "outputs": [
    {
     "data": {
      "text/html": [
       "<div>\n",
       "<style scoped>\n",
       "    .dataframe tbody tr th:only-of-type {\n",
       "        vertical-align: middle;\n",
       "    }\n",
       "\n",
       "    .dataframe tbody tr th {\n",
       "        vertical-align: top;\n",
       "    }\n",
       "\n",
       "    .dataframe thead th {\n",
       "        text-align: right;\n",
       "    }\n",
       "</style>\n",
       "<table border=\"1\" class=\"dataframe\">\n",
       "  <thead>\n",
       "    <tr style=\"text-align: right;\">\n",
       "      <th></th>\n",
       "      <th>Longitude</th>\n",
       "      <th>Latitude</th>\n",
       "      <th>City Name</th>\n",
       "      <th>Direction</th>\n",
       "      <th>Survivors</th>\n",
       "    </tr>\n",
       "  </thead>\n",
       "  <tbody>\n",
       "    <tr>\n",
       "      <th>0</th>\n",
       "      <td>32.0</td>\n",
       "      <td>54.8</td>\n",
       "      <td>Smolensk</td>\n",
       "      <td>Advance</td>\n",
       "      <td>145000</td>\n",
       "    </tr>\n",
       "    <tr>\n",
       "      <th>1</th>\n",
       "      <td>33.2</td>\n",
       "      <td>54.9</td>\n",
       "      <td>Dorogobouge</td>\n",
       "      <td>Advance</td>\n",
       "      <td>140000</td>\n",
       "    </tr>\n",
       "    <tr>\n",
       "      <th>2</th>\n",
       "      <td>34.4</td>\n",
       "      <td>55.5</td>\n",
       "      <td>Chjat</td>\n",
       "      <td>Advance</td>\n",
       "      <td>127100</td>\n",
       "    </tr>\n",
       "    <tr>\n",
       "      <th>3</th>\n",
       "      <td>37.6</td>\n",
       "      <td>55.8</td>\n",
       "      <td>Moscou</td>\n",
       "      <td>Advance</td>\n",
       "      <td>100000</td>\n",
       "    </tr>\n",
       "    <tr>\n",
       "      <th>4</th>\n",
       "      <td>34.3</td>\n",
       "      <td>55.2</td>\n",
       "      <td>Wixma</td>\n",
       "      <td>Retreat</td>\n",
       "      <td>55000</td>\n",
       "    </tr>\n",
       "    <tr>\n",
       "      <th>5</th>\n",
       "      <td>32.0</td>\n",
       "      <td>54.6</td>\n",
       "      <td>Smolensk</td>\n",
       "      <td>Retreat</td>\n",
       "      <td>24000</td>\n",
       "    </tr>\n",
       "    <tr>\n",
       "      <th>6</th>\n",
       "      <td>30.4</td>\n",
       "      <td>54.4</td>\n",
       "      <td>Orscha</td>\n",
       "      <td>Retreat</td>\n",
       "      <td>20000</td>\n",
       "    </tr>\n",
       "    <tr>\n",
       "      <th>7</th>\n",
       "      <td>26.8</td>\n",
       "      <td>54.3</td>\n",
       "      <td>Moiodexno</td>\n",
       "      <td>Retreat</td>\n",
       "      <td>12000</td>\n",
       "    </tr>\n",
       "  </tbody>\n",
       "</table>\n",
       "</div>"
      ],
      "text/plain": [
       "   Longitude  Latitude    City Name Direction  Survivors\n",
       "0       32.0      54.8     Smolensk   Advance     145000\n",
       "1       33.2      54.9  Dorogobouge   Advance     140000\n",
       "2       34.4      55.5        Chjat   Advance     127100\n",
       "3       37.6      55.8       Moscou   Advance     100000\n",
       "4       34.3      55.2        Wixma   Retreat      55000\n",
       "5       32.0      54.6     Smolensk   Retreat      24000\n",
       "6       30.4      54.4       Orscha   Retreat      20000\n",
       "7       26.8      54.3    Moiodexno   Retreat      12000"
      ]
     },
     "execution_count": 45,
     "metadata": {},
     "output_type": "execute_result"
    }
   ],
   "source": [
    "df = df.rename(columns={'City Name':'City Name'})\n",
    "df"
   ]
  },
  {
   "cell_type": "markdown",
   "id": "5319008a",
   "metadata": {},
   "source": [
    "-----"
   ]
  },
  {
   "cell_type": "markdown",
   "id": "34fcee5a",
   "metadata": {},
   "source": [
    "# Accessing the Data in a Column"
   ]
  },
  {
   "cell_type": "code",
   "execution_count": 46,
   "id": "01f46237",
   "metadata": {},
   "outputs": [
    {
     "data": {
      "text/plain": [
       "array([145000, 140000, 127100, 100000,  55000,  24000,  20000,  12000])"
      ]
     },
     "execution_count": 46,
     "metadata": {},
     "output_type": "execute_result"
    }
   ],
   "source": [
    "tbl.column('Survivors') # ndarray\n",
    "tbl.column(4)"
   ]
  },
  {
   "cell_type": "code",
   "execution_count": 47,
   "id": "1ccf2100",
   "metadata": {},
   "outputs": [
    {
     "data": {
      "text/plain": [
       "145000"
      ]
     },
     "execution_count": 47,
     "metadata": {},
     "output_type": "execute_result"
    }
   ],
   "source": [
    "tbl.column(4).item(0)"
   ]
  },
  {
   "cell_type": "code",
   "execution_count": 48,
   "id": "90dc68bd",
   "metadata": {},
   "outputs": [
    {
     "data": {
      "text/plain": [
       "0    145000\n",
       "1    140000\n",
       "2    127100\n",
       "3    100000\n",
       "4     55000\n",
       "5     24000\n",
       "6     20000\n",
       "7     12000\n",
       "Name: Survivors, dtype: int64"
      ]
     },
     "execution_count": 48,
     "metadata": {},
     "output_type": "execute_result"
    }
   ],
   "source": [
    "df['Survivors'] # Series\n",
    "df.iloc[:, 4]"
   ]
  },
  {
   "cell_type": "code",
   "execution_count": 49,
   "id": "333c9ddf",
   "metadata": {},
   "outputs": [
    {
     "data": {
      "text/plain": [
       "145000"
      ]
     },
     "execution_count": 49,
     "metadata": {},
     "output_type": "execute_result"
    }
   ],
   "source": [
    "df['Survivors'][0]"
   ]
  },
  {
   "cell_type": "code",
   "execution_count": 50,
   "id": "d5c73a7c",
   "metadata": {},
   "outputs": [
    {
     "data": {
      "text/plain": [
       "145000"
      ]
     },
     "execution_count": 50,
     "metadata": {},
     "output_type": "execute_result"
    }
   ],
   "source": [
    "df.iloc[0, 4]"
   ]
  },
  {
   "cell_type": "code",
   "execution_count": 51,
   "id": "72dc886c",
   "metadata": {},
   "outputs": [
    {
     "data": {
      "text/plain": [
       "Longitude       34.4\n",
       "Latitude        55.5\n",
       "City Name      Chjat\n",
       "Direction    Advance\n",
       "Survivors     127100\n",
       "Name: 2, dtype: object"
      ]
     },
     "execution_count": 51,
     "metadata": {},
     "output_type": "execute_result"
    }
   ],
   "source": [
    "df.loc[2] # 2th row"
   ]
  },
  {
   "cell_type": "markdown",
   "id": "de5826ab",
   "metadata": {},
   "source": [
    "---------"
   ]
  },
  {
   "cell_type": "markdown",
   "id": "38493a7d",
   "metadata": {},
   "source": [
    "# Choosing Sets of Columns"
   ]
  },
  {
   "cell_type": "code",
   "execution_count": 52,
   "id": "f7c7ffb1",
   "metadata": {},
   "outputs": [
    {
     "name": "stdout",
     "output_type": "stream",
     "text": [
      "Longitude | Latitude | City Name   | Direction | Survivors\n",
      "32        | 54.8     | Smolensk    | Advance   | 145000\n",
      "33.2      | 54.9     | Dorogobouge | Advance   | 140000\n",
      "34.4      | 55.5     | Chjat       | Advance   | 127100\n",
      "37.6      | 55.8     | Moscou      | Advance   | 100000\n",
      "34.3      | 55.2     | Wixma       | Retreat   | 55000\n",
      "32        | 54.6     | Smolensk    | Retreat   | 24000\n",
      "30.4      | 54.4     | Orscha      | Retreat   | 20000\n",
      "26.8      | 54.3     | Moiodexno   | Retreat   | 12000\n"
     ]
    }
   ],
   "source": [
    "print(tbl)"
   ]
  },
  {
   "cell_type": "code",
   "execution_count": 53,
   "id": "d9b57418",
   "metadata": {},
   "outputs": [
    {
     "data": {
      "text/html": [
       "<table border=\"1\" class=\"dataframe\">\n",
       "    <thead>\n",
       "        <tr>\n",
       "            <th>City Name</th> <th>Survivors</th>\n",
       "        </tr>\n",
       "    </thead>\n",
       "    <tbody>\n",
       "        <tr>\n",
       "            <td>Smolensk   </td> <td>145000   </td>\n",
       "        </tr>\n",
       "        <tr>\n",
       "            <td>Dorogobouge</td> <td>140000   </td>\n",
       "        </tr>\n",
       "        <tr>\n",
       "            <td>Chjat      </td> <td>127100   </td>\n",
       "        </tr>\n",
       "        <tr>\n",
       "            <td>Moscou     </td> <td>100000   </td>\n",
       "        </tr>\n",
       "        <tr>\n",
       "            <td>Wixma      </td> <td>55000    </td>\n",
       "        </tr>\n",
       "        <tr>\n",
       "            <td>Smolensk   </td> <td>24000    </td>\n",
       "        </tr>\n",
       "        <tr>\n",
       "            <td>Orscha     </td> <td>20000    </td>\n",
       "        </tr>\n",
       "        <tr>\n",
       "            <td>Moiodexno  </td> <td>12000    </td>\n",
       "        </tr>\n",
       "    </tbody>\n",
       "</table>"
      ],
      "text/plain": [
       "City Name   | Survivors\n",
       "Smolensk    | 145000\n",
       "Dorogobouge | 140000\n",
       "Chjat       | 127100\n",
       "Moscou      | 100000\n",
       "Wixma       | 55000\n",
       "Smolensk    | 24000\n",
       "Orscha      | 20000\n",
       "Moiodexno   | 12000"
      ]
     },
     "execution_count": 53,
     "metadata": {},
     "output_type": "execute_result"
    }
   ],
   "source": [
    "tbl.select('City Name', 'Survivors')\n",
    "tbl.select(2,4)"
   ]
  },
  {
   "cell_type": "code",
   "execution_count": 54,
   "id": "62384fe0",
   "metadata": {},
   "outputs": [
    {
     "data": {
      "text/html": [
       "<div>\n",
       "<style scoped>\n",
       "    .dataframe tbody tr th:only-of-type {\n",
       "        vertical-align: middle;\n",
       "    }\n",
       "\n",
       "    .dataframe tbody tr th {\n",
       "        vertical-align: top;\n",
       "    }\n",
       "\n",
       "    .dataframe thead th {\n",
       "        text-align: right;\n",
       "    }\n",
       "</style>\n",
       "<table border=\"1\" class=\"dataframe\">\n",
       "  <thead>\n",
       "    <tr style=\"text-align: right;\">\n",
       "      <th></th>\n",
       "      <th>City Name</th>\n",
       "      <th>Survivors</th>\n",
       "    </tr>\n",
       "  </thead>\n",
       "  <tbody>\n",
       "    <tr>\n",
       "      <th>0</th>\n",
       "      <td>Smolensk</td>\n",
       "      <td>145000</td>\n",
       "    </tr>\n",
       "    <tr>\n",
       "      <th>1</th>\n",
       "      <td>Dorogobouge</td>\n",
       "      <td>140000</td>\n",
       "    </tr>\n",
       "    <tr>\n",
       "      <th>2</th>\n",
       "      <td>Chjat</td>\n",
       "      <td>127100</td>\n",
       "    </tr>\n",
       "    <tr>\n",
       "      <th>3</th>\n",
       "      <td>Moscou</td>\n",
       "      <td>100000</td>\n",
       "    </tr>\n",
       "    <tr>\n",
       "      <th>4</th>\n",
       "      <td>Wixma</td>\n",
       "      <td>55000</td>\n",
       "    </tr>\n",
       "    <tr>\n",
       "      <th>5</th>\n",
       "      <td>Smolensk</td>\n",
       "      <td>24000</td>\n",
       "    </tr>\n",
       "    <tr>\n",
       "      <th>6</th>\n",
       "      <td>Orscha</td>\n",
       "      <td>20000</td>\n",
       "    </tr>\n",
       "    <tr>\n",
       "      <th>7</th>\n",
       "      <td>Moiodexno</td>\n",
       "      <td>12000</td>\n",
       "    </tr>\n",
       "  </tbody>\n",
       "</table>\n",
       "</div>"
      ],
      "text/plain": [
       "     City Name  Survivors\n",
       "0     Smolensk     145000\n",
       "1  Dorogobouge     140000\n",
       "2        Chjat     127100\n",
       "3       Moscou     100000\n",
       "4        Wixma      55000\n",
       "5     Smolensk      24000\n",
       "6       Orscha      20000\n",
       "7    Moiodexno      12000"
      ]
     },
     "execution_count": 54,
     "metadata": {},
     "output_type": "execute_result"
    }
   ],
   "source": [
    "df[['City Name','Survivors']]\n",
    "df.iloc[:, [2,4]]"
   ]
  },
  {
   "cell_type": "markdown",
   "id": "fb2775fb",
   "metadata": {},
   "source": [
    "-----------"
   ]
  },
  {
   "cell_type": "markdown",
   "id": "c3fa30f4",
   "metadata": {},
   "source": [
    "# Working with the Data in a Column"
   ]
  },
  {
   "cell_type": "code",
   "execution_count": 55,
   "id": "d282634c",
   "metadata": {},
   "outputs": [
    {
     "data": {
      "text/html": [
       "<table border=\"1\" class=\"dataframe\">\n",
       "    <thead>\n",
       "        <tr>\n",
       "            <th>Longitude</th> <th>Latitude</th> <th>City Name</th> <th>Direction</th> <th>Survivors</th> <th>Percent Surviving</th>\n",
       "        </tr>\n",
       "    </thead>\n",
       "    <tbody>\n",
       "        <tr>\n",
       "            <td>32       </td> <td>54.8    </td> <td>Smolensk   </td> <td>Advance  </td> <td>145000   </td> <td>1                </td>\n",
       "        </tr>\n",
       "        <tr>\n",
       "            <td>33.2     </td> <td>54.9    </td> <td>Dorogobouge</td> <td>Advance  </td> <td>140000   </td> <td>0.965517         </td>\n",
       "        </tr>\n",
       "        <tr>\n",
       "            <td>34.4     </td> <td>55.5    </td> <td>Chjat      </td> <td>Advance  </td> <td>127100   </td> <td>0.876552         </td>\n",
       "        </tr>\n",
       "        <tr>\n",
       "            <td>37.6     </td> <td>55.8    </td> <td>Moscou     </td> <td>Advance  </td> <td>100000   </td> <td>0.689655         </td>\n",
       "        </tr>\n",
       "        <tr>\n",
       "            <td>34.3     </td> <td>55.2    </td> <td>Wixma      </td> <td>Retreat  </td> <td>55000    </td> <td>0.37931          </td>\n",
       "        </tr>\n",
       "        <tr>\n",
       "            <td>32       </td> <td>54.6    </td> <td>Smolensk   </td> <td>Retreat  </td> <td>24000    </td> <td>0.165517         </td>\n",
       "        </tr>\n",
       "        <tr>\n",
       "            <td>30.4     </td> <td>54.4    </td> <td>Orscha     </td> <td>Retreat  </td> <td>20000    </td> <td>0.137931         </td>\n",
       "        </tr>\n",
       "        <tr>\n",
       "            <td>26.8     </td> <td>54.3    </td> <td>Moiodexno  </td> <td>Retreat  </td> <td>12000    </td> <td>0.0827586        </td>\n",
       "        </tr>\n",
       "    </tbody>\n",
       "</table>"
      ],
      "text/plain": [
       "Longitude | Latitude | City Name   | Direction | Survivors | Percent Surviving\n",
       "32        | 54.8     | Smolensk    | Advance   | 145000    | 1\n",
       "33.2      | 54.9     | Dorogobouge | Advance   | 140000    | 0.965517\n",
       "34.4      | 55.5     | Chjat       | Advance   | 127100    | 0.876552\n",
       "37.6      | 55.8     | Moscou      | Advance   | 100000    | 0.689655\n",
       "34.3      | 55.2     | Wixma       | Retreat   | 55000     | 0.37931\n",
       "32        | 54.6     | Smolensk    | Retreat   | 24000     | 0.165517\n",
       "30.4      | 54.4     | Orscha      | Retreat   | 20000     | 0.137931\n",
       "26.8      | 54.3     | Moiodexno   | Retreat   | 12000     | 0.0827586"
      ]
     },
     "execution_count": 55,
     "metadata": {},
     "output_type": "execute_result"
    }
   ],
   "source": [
    "initial = tbl.column('Survivors').item(0)\n",
    "tbl = tbl.with_columns(\n",
    "'Percent Surviving', tbl.column('Survivors')/initial\n",
    ")\n",
    "tbl"
   ]
  },
  {
   "cell_type": "code",
   "execution_count": 56,
   "id": "efd395c3",
   "metadata": {},
   "outputs": [
    {
     "data": {
      "text/html": [
       "<table border=\"1\" class=\"dataframe\">\n",
       "    <thead>\n",
       "        <tr>\n",
       "            <th>Longitude</th> <th>Latitude</th> <th>City Name</th> <th>Direction</th> <th>Survivors</th> <th>Percent Surviving</th>\n",
       "        </tr>\n",
       "    </thead>\n",
       "    <tbody>\n",
       "        <tr>\n",
       "            <td>32       </td> <td>54.8    </td> <td>Smolensk   </td> <td>Advance  </td> <td>145000   </td> <td>100.00%          </td>\n",
       "        </tr>\n",
       "        <tr>\n",
       "            <td>33.2     </td> <td>54.9    </td> <td>Dorogobouge</td> <td>Advance  </td> <td>140000   </td> <td>96.55%           </td>\n",
       "        </tr>\n",
       "        <tr>\n",
       "            <td>34.4     </td> <td>55.5    </td> <td>Chjat      </td> <td>Advance  </td> <td>127100   </td> <td>87.66%           </td>\n",
       "        </tr>\n",
       "        <tr>\n",
       "            <td>37.6     </td> <td>55.8    </td> <td>Moscou     </td> <td>Advance  </td> <td>100000   </td> <td>68.97%           </td>\n",
       "        </tr>\n",
       "        <tr>\n",
       "            <td>34.3     </td> <td>55.2    </td> <td>Wixma      </td> <td>Retreat  </td> <td>55000    </td> <td>37.93%           </td>\n",
       "        </tr>\n",
       "        <tr>\n",
       "            <td>32       </td> <td>54.6    </td> <td>Smolensk   </td> <td>Retreat  </td> <td>24000    </td> <td>16.55%           </td>\n",
       "        </tr>\n",
       "        <tr>\n",
       "            <td>30.4     </td> <td>54.4    </td> <td>Orscha     </td> <td>Retreat  </td> <td>20000    </td> <td>13.79%           </td>\n",
       "        </tr>\n",
       "        <tr>\n",
       "            <td>26.8     </td> <td>54.3    </td> <td>Moiodexno  </td> <td>Retreat  </td> <td>12000    </td> <td>8.28%            </td>\n",
       "        </tr>\n",
       "    </tbody>\n",
       "</table>"
      ],
      "text/plain": [
       "Longitude | Latitude | City Name   | Direction | Survivors | Percent Surviving\n",
       "32        | 54.8     | Smolensk    | Advance   | 145000    | 100.00%\n",
       "33.2      | 54.9     | Dorogobouge | Advance   | 140000    | 96.55%\n",
       "34.4      | 55.5     | Chjat       | Advance   | 127100    | 87.66%\n",
       "37.6      | 55.8     | Moscou      | Advance   | 100000    | 68.97%\n",
       "34.3      | 55.2     | Wixma       | Retreat   | 55000     | 37.93%\n",
       "32        | 54.6     | Smolensk    | Retreat   | 24000     | 16.55%\n",
       "30.4      | 54.4     | Orscha      | Retreat   | 20000     | 13.79%\n",
       "26.8      | 54.3     | Moiodexno   | Retreat   | 12000     | 8.28%"
      ]
     },
     "execution_count": 56,
     "metadata": {},
     "output_type": "execute_result"
    }
   ],
   "source": [
    "tbl.set_format('Percent Surviving', PercentFormatter)"
   ]
  },
  {
   "cell_type": "markdown",
   "id": "7eb30aa2",
   "metadata": {},
   "source": [
    "판다스는 포맷을 바꾸는게 조금 복잡하다."
   ]
  },
  {
   "cell_type": "code",
   "execution_count": 57,
   "id": "dd50670f",
   "metadata": {},
   "outputs": [
    {
     "data": {
      "text/html": [
       "<div>\n",
       "<style scoped>\n",
       "    .dataframe tbody tr th:only-of-type {\n",
       "        vertical-align: middle;\n",
       "    }\n",
       "\n",
       "    .dataframe tbody tr th {\n",
       "        vertical-align: top;\n",
       "    }\n",
       "\n",
       "    .dataframe thead th {\n",
       "        text-align: right;\n",
       "    }\n",
       "</style>\n",
       "<table border=\"1\" class=\"dataframe\">\n",
       "  <thead>\n",
       "    <tr style=\"text-align: right;\">\n",
       "      <th></th>\n",
       "      <th>Longitude</th>\n",
       "      <th>Latitude</th>\n",
       "      <th>City Name</th>\n",
       "      <th>Direction</th>\n",
       "      <th>Survivors</th>\n",
       "      <th>Percent Surviving</th>\n",
       "    </tr>\n",
       "  </thead>\n",
       "  <tbody>\n",
       "    <tr>\n",
       "      <th>0</th>\n",
       "      <td>32.0</td>\n",
       "      <td>54.8</td>\n",
       "      <td>Smolensk</td>\n",
       "      <td>Advance</td>\n",
       "      <td>145000</td>\n",
       "      <td>100.00%</td>\n",
       "    </tr>\n",
       "    <tr>\n",
       "      <th>1</th>\n",
       "      <td>33.2</td>\n",
       "      <td>54.9</td>\n",
       "      <td>Dorogobouge</td>\n",
       "      <td>Advance</td>\n",
       "      <td>140000</td>\n",
       "      <td>96.55%</td>\n",
       "    </tr>\n",
       "    <tr>\n",
       "      <th>2</th>\n",
       "      <td>34.4</td>\n",
       "      <td>55.5</td>\n",
       "      <td>Chjat</td>\n",
       "      <td>Advance</td>\n",
       "      <td>127100</td>\n",
       "      <td>87.66%</td>\n",
       "    </tr>\n",
       "    <tr>\n",
       "      <th>3</th>\n",
       "      <td>37.6</td>\n",
       "      <td>55.8</td>\n",
       "      <td>Moscou</td>\n",
       "      <td>Advance</td>\n",
       "      <td>100000</td>\n",
       "      <td>68.97%</td>\n",
       "    </tr>\n",
       "    <tr>\n",
       "      <th>4</th>\n",
       "      <td>34.3</td>\n",
       "      <td>55.2</td>\n",
       "      <td>Wixma</td>\n",
       "      <td>Retreat</td>\n",
       "      <td>55000</td>\n",
       "      <td>37.93%</td>\n",
       "    </tr>\n",
       "    <tr>\n",
       "      <th>5</th>\n",
       "      <td>32.0</td>\n",
       "      <td>54.6</td>\n",
       "      <td>Smolensk</td>\n",
       "      <td>Retreat</td>\n",
       "      <td>24000</td>\n",
       "      <td>16.55%</td>\n",
       "    </tr>\n",
       "    <tr>\n",
       "      <th>6</th>\n",
       "      <td>30.4</td>\n",
       "      <td>54.4</td>\n",
       "      <td>Orscha</td>\n",
       "      <td>Retreat</td>\n",
       "      <td>20000</td>\n",
       "      <td>13.79%</td>\n",
       "    </tr>\n",
       "    <tr>\n",
       "      <th>7</th>\n",
       "      <td>26.8</td>\n",
       "      <td>54.3</td>\n",
       "      <td>Moiodexno</td>\n",
       "      <td>Retreat</td>\n",
       "      <td>12000</td>\n",
       "      <td>8.28%</td>\n",
       "    </tr>\n",
       "  </tbody>\n",
       "</table>\n",
       "</div>"
      ],
      "text/plain": [
       "   Longitude  Latitude    City Name Direction  Survivors Percent Surviving\n",
       "0       32.0      54.8     Smolensk   Advance     145000           100.00%\n",
       "1       33.2      54.9  Dorogobouge   Advance     140000            96.55%\n",
       "2       34.4      55.5        Chjat   Advance     127100            87.66%\n",
       "3       37.6      55.8       Moscou   Advance     100000            68.97%\n",
       "4       34.3      55.2        Wixma   Retreat      55000            37.93%\n",
       "5       32.0      54.6     Smolensk   Retreat      24000            16.55%\n",
       "6       30.4      54.4       Orscha   Retreat      20000            13.79%\n",
       "7       26.8      54.3    Moiodexno   Retreat      12000             8.28%"
      ]
     },
     "execution_count": 57,
     "metadata": {},
     "output_type": "execute_result"
    }
   ],
   "source": [
    "initial = df['Survivors'][0]\n",
    "ratio = df['Survivors']/initial\n",
    "percent = np.array([\"{:.2%}\".format(val) for val in ratio])\n",
    "df['Percent Surviving'] = percent\n",
    "df"
   ]
  },
  {
   "cell_type": "markdown",
   "id": "e3c9a9d2",
   "metadata": {},
   "source": [
    "-------------"
   ]
  },
  {
   "cell_type": "markdown",
   "id": "82ede39e",
   "metadata": {},
   "source": [
    "# Sorting Rows"
   ]
  },
  {
   "cell_type": "code",
   "execution_count": 58,
   "id": "598eb684",
   "metadata": {},
   "outputs": [
    {
     "data": {
      "text/html": [
       "<table border=\"1\" class=\"dataframe\">\n",
       "    <thead>\n",
       "        <tr>\n",
       "            <th>PLAYER</th> <th>POSITION</th> <th>TEAM</th> <th>2015-2016 SALARY</th>\n",
       "        </tr>\n",
       "    </thead>\n",
       "    <tbody>\n",
       "        <tr>\n",
       "            <td>Paul Millsap  </td> <td>PF      </td> <td>Atlanta Hawks</td> <td>18.6717         </td>\n",
       "        </tr>\n",
       "        <tr>\n",
       "            <td>Al Horford    </td> <td>C       </td> <td>Atlanta Hawks</td> <td>12              </td>\n",
       "        </tr>\n",
       "        <tr>\n",
       "            <td>Tiago Splitter</td> <td>C       </td> <td>Atlanta Hawks</td> <td>9.75625         </td>\n",
       "        </tr>\n",
       "        <tr>\n",
       "            <td>Jeff Teague   </td> <td>PG      </td> <td>Atlanta Hawks</td> <td>8               </td>\n",
       "        </tr>\n",
       "        <tr>\n",
       "            <td>Kyle Korver   </td> <td>SG      </td> <td>Atlanta Hawks</td> <td>5.74648         </td>\n",
       "        </tr>\n",
       "    </tbody>\n",
       "</table>\n",
       "<p>... (412 rows omitted)</p>"
      ],
      "text/plain": [
       "<IPython.core.display.HTML object>"
      ]
     },
     "metadata": {},
     "output_type": "display_data"
    }
   ],
   "source": [
    "nba_salaries = Table.read_table('nba_salaries2.csv')\n",
    "nba_salaries.show(5)"
   ]
  },
  {
   "cell_type": "code",
   "execution_count": 59,
   "id": "7cb4839e",
   "metadata": {},
   "outputs": [
    {
     "data": {
      "text/html": [
       "<table border=\"1\" class=\"dataframe\">\n",
       "    <thead>\n",
       "        <tr>\n",
       "            <th>PLAYER</th> <th>POSITION</th> <th>TEAM</th> <th>SALARY</th>\n",
       "        </tr>\n",
       "    </thead>\n",
       "    <tbody>\n",
       "        <tr>\n",
       "            <td>Thanasis Antetokounmpo</td> <td>SF      </td> <td>New York Knicks     </td> <td>0.030888</td>\n",
       "        </tr>\n",
       "        <tr>\n",
       "            <td>Jordan McRae          </td> <td>SG      </td> <td>Phoenix Suns        </td> <td>0.049709</td>\n",
       "        </tr>\n",
       "        <tr>\n",
       "            <td>Cory Jefferson        </td> <td>PF      </td> <td>Phoenix Suns        </td> <td>0.049709</td>\n",
       "        </tr>\n",
       "        <tr>\n",
       "            <td>Elliot Williams       </td> <td>SG      </td> <td>Memphis Grizzlies   </td> <td>0.055722</td>\n",
       "        </tr>\n",
       "        <tr>\n",
       "            <td>Orlando Johnson       </td> <td>SG      </td> <td>Phoenix Suns        </td> <td>0.055722</td>\n",
       "        </tr>\n",
       "        <tr>\n",
       "            <td>Phil Pressey          </td> <td>PG      </td> <td>Phoenix Suns        </td> <td>0.055722</td>\n",
       "        </tr>\n",
       "        <tr>\n",
       "            <td>Keith Appling         </td> <td>PG      </td> <td>Orlando Magic       </td> <td>0.061776</td>\n",
       "        </tr>\n",
       "        <tr>\n",
       "            <td>Sean Kilpatrick       </td> <td>SG      </td> <td>Denver Nuggets      </td> <td>0.099418</td>\n",
       "        </tr>\n",
       "        <tr>\n",
       "            <td>Erick Green           </td> <td>PG      </td> <td>Utah Jazz           </td> <td>0.099418</td>\n",
       "        </tr>\n",
       "        <tr>\n",
       "            <td>Jeff Ayres            </td> <td>PF      </td> <td>Los Angeles Clippers</td> <td>0.111444</td>\n",
       "        </tr>\n",
       "    </tbody>\n",
       "</table>\n",
       "<p>... (407 rows omitted)</p>"
      ],
      "text/plain": [
       "PLAYER                 | POSITION | TEAM                 | SALARY\n",
       "Thanasis Antetokounmpo | SF       | New York Knicks      | 0.030888\n",
       "Jordan McRae           | SG       | Phoenix Suns         | 0.049709\n",
       "Cory Jefferson         | PF       | Phoenix Suns         | 0.049709\n",
       "Elliot Williams        | SG       | Memphis Grizzlies    | 0.055722\n",
       "Orlando Johnson        | SG       | Phoenix Suns         | 0.055722\n",
       "Phil Pressey           | PG       | Phoenix Suns         | 0.055722\n",
       "Keith Appling          | PG       | Orlando Magic        | 0.061776\n",
       "Sean Kilpatrick        | SG       | Denver Nuggets       | 0.099418\n",
       "Erick Green            | PG       | Utah Jazz            | 0.099418\n",
       "Jeff Ayres             | PF       | Los Angeles Clippers | 0.111444\n",
       "... (407 rows omitted)"
      ]
     },
     "execution_count": 59,
     "metadata": {},
     "output_type": "execute_result"
    }
   ],
   "source": [
    "nba = nba_salaries.relabeled(\"2015-2016 SALARY\", 'SALARY')\n",
    "nba.sort('SALARY')"
   ]
  },
  {
   "cell_type": "code",
   "execution_count": 60,
   "id": "ec0bb753",
   "metadata": {},
   "outputs": [
    {
     "data": {
      "text/html": [
       "<table border=\"1\" class=\"dataframe\">\n",
       "    <thead>\n",
       "        <tr>\n",
       "            <th>PLAYER</th> <th>POSITION</th> <th>TEAM</th> <th>SALARY</th>\n",
       "        </tr>\n",
       "    </thead>\n",
       "    <tbody>\n",
       "        <tr>\n",
       "            <td>Kobe Bryant    </td> <td>SF      </td> <td>Los Angeles Lakers   </td> <td>25     </td>\n",
       "        </tr>\n",
       "        <tr>\n",
       "            <td>Joe Johnson    </td> <td>SF      </td> <td>Brooklyn Nets        </td> <td>24.8949</td>\n",
       "        </tr>\n",
       "        <tr>\n",
       "            <td>LeBron James   </td> <td>SF      </td> <td>Cleveland Cavaliers  </td> <td>22.9705</td>\n",
       "        </tr>\n",
       "        <tr>\n",
       "            <td>Carmelo Anthony</td> <td>SF      </td> <td>New York Knicks      </td> <td>22.875 </td>\n",
       "        </tr>\n",
       "        <tr>\n",
       "            <td>Dwight Howard  </td> <td>C       </td> <td>Houston Rockets      </td> <td>22.3594</td>\n",
       "        </tr>\n",
       "        <tr>\n",
       "            <td>Chris Bosh     </td> <td>PF      </td> <td>Miami Heat           </td> <td>22.1927</td>\n",
       "        </tr>\n",
       "        <tr>\n",
       "            <td>Chris Paul     </td> <td>PG      </td> <td>Los Angeles Clippers </td> <td>21.4687</td>\n",
       "        </tr>\n",
       "        <tr>\n",
       "            <td>Kevin Durant   </td> <td>SF      </td> <td>Oklahoma City Thunder</td> <td>20.1586</td>\n",
       "        </tr>\n",
       "        <tr>\n",
       "            <td>Derrick Rose   </td> <td>PG      </td> <td>Chicago Bulls        </td> <td>20.0931</td>\n",
       "        </tr>\n",
       "        <tr>\n",
       "            <td>Dwyane Wade    </td> <td>SG      </td> <td>Miami Heat           </td> <td>20     </td>\n",
       "        </tr>\n",
       "    </tbody>\n",
       "</table>\n",
       "<p>... (407 rows omitted)</p>"
      ],
      "text/plain": [
       "PLAYER          | POSITION | TEAM                  | SALARY\n",
       "Kobe Bryant     | SF       | Los Angeles Lakers    | 25\n",
       "Joe Johnson     | SF       | Brooklyn Nets         | 24.8949\n",
       "LeBron James    | SF       | Cleveland Cavaliers   | 22.9705\n",
       "Carmelo Anthony | SF       | New York Knicks       | 22.875\n",
       "Dwight Howard   | C        | Houston Rockets       | 22.3594\n",
       "Chris Bosh      | PF       | Miami Heat            | 22.1927\n",
       "Chris Paul      | PG       | Los Angeles Clippers  | 21.4687\n",
       "Kevin Durant    | SF       | Oklahoma City Thunder | 20.1586\n",
       "Derrick Rose    | PG       | Chicago Bulls         | 20.0931\n",
       "Dwyane Wade     | SG       | Miami Heat            | 20\n",
       "... (407 rows omitted)"
      ]
     },
     "execution_count": 60,
     "metadata": {},
     "output_type": "execute_result"
    }
   ],
   "source": [
    "nba.sort('SALARY', descending=True)"
   ]
  },
  {
   "cell_type": "code",
   "execution_count": 61,
   "id": "ccb79506",
   "metadata": {},
   "outputs": [
    {
     "name": "stdout",
     "output_type": "stream",
     "text": [
      "Help on function sort in module datascience.tables:\n",
      "\n",
      "sort(self, column_or_label, descending=False, distinct=False)\n",
      "    Return a Table of rows sorted according to the values in a column.\n",
      "    \n",
      "    Args:\n",
      "        ``column_or_label``: the column whose values are used for sorting.\n",
      "    \n",
      "        ``descending``: if True, sorting will be in descending, rather than\n",
      "            ascending order.\n",
      "    \n",
      "        ``distinct``: if True, repeated values in ``column_or_label`` will\n",
      "            be omitted.\n",
      "    \n",
      "    Returns:\n",
      "        An instance of ``Table`` containing rows sorted based on the values\n",
      "        in ``column_or_label``.\n",
      "    \n",
      "    >>> marbles = Table().with_columns(\n",
      "    ...    \"Color\", make_array(\"Red\", \"Green\", \"Blue\", \"Red\", \"Green\", \"Green\"),\n",
      "    ...    \"Shape\", make_array(\"Round\", \"Rectangular\", \"Rectangular\", \"Round\", \"Rectangular\", \"Round\"),\n",
      "    ...    \"Amount\", make_array(4, 6, 12, 7, 9, 2),\n",
      "    ...    \"Price\", make_array(1.30, 1.30, 2.00, 1.75, 1.40, 1.00))\n",
      "    >>> marbles\n",
      "    Color | Shape       | Amount | Price\n",
      "    Red   | Round       | 4      | 1.3\n",
      "    Green | Rectangular | 6      | 1.3\n",
      "    Blue  | Rectangular | 12     | 2\n",
      "    Red   | Round       | 7      | 1.75\n",
      "    Green | Rectangular | 9      | 1.4\n",
      "    Green | Round       | 2      | 1\n",
      "    >>> marbles.sort(\"Amount\")\n",
      "    Color | Shape       | Amount | Price\n",
      "    Green | Round       | 2      | 1\n",
      "    Red   | Round       | 4      | 1.3\n",
      "    Green | Rectangular | 6      | 1.3\n",
      "    Red   | Round       | 7      | 1.75\n",
      "    Green | Rectangular | 9      | 1.4\n",
      "    Blue  | Rectangular | 12     | 2\n",
      "    >>> marbles.sort(\"Amount\", descending = True)\n",
      "    Color | Shape       | Amount | Price\n",
      "    Blue  | Rectangular | 12     | 2\n",
      "    Green | Rectangular | 9      | 1.4\n",
      "    Red   | Round       | 7      | 1.75\n",
      "    Green | Rectangular | 6      | 1.3\n",
      "    Red   | Round       | 4      | 1.3\n",
      "    Green | Round       | 2      | 1\n",
      "    >>> marbles.sort(3) # the Price column\n",
      "    Color | Shape       | Amount | Price\n",
      "    Green | Round       | 2      | 1\n",
      "    Red   | Round       | 4      | 1.3\n",
      "    Green | Rectangular | 6      | 1.3\n",
      "    Green | Rectangular | 9      | 1.4\n",
      "    Red   | Round       | 7      | 1.75\n",
      "    Blue  | Rectangular | 12     | 2\n",
      "    >>> marbles.sort(3, distinct = True)\n",
      "    Color | Shape       | Amount | Price\n",
      "    Green | Round       | 2      | 1\n",
      "    Red   | Round       | 4      | 1.3\n",
      "    Green | Rectangular | 9      | 1.4\n",
      "    Red   | Round       | 7      | 1.75\n",
      "    Blue  | Rectangular | 12     | 2\n",
      "\n"
     ]
    }
   ],
   "source": [
    "help(Table.sort)"
   ]
  },
  {
   "cell_type": "code",
   "execution_count": 62,
   "id": "cb353274",
   "metadata": {},
   "outputs": [
    {
     "data": {
      "text/html": [
       "<div>\n",
       "<style scoped>\n",
       "    .dataframe tbody tr th:only-of-type {\n",
       "        vertical-align: middle;\n",
       "    }\n",
       "\n",
       "    .dataframe tbody tr th {\n",
       "        vertical-align: top;\n",
       "    }\n",
       "\n",
       "    .dataframe thead th {\n",
       "        text-align: right;\n",
       "    }\n",
       "</style>\n",
       "<table border=\"1\" class=\"dataframe\">\n",
       "  <thead>\n",
       "    <tr style=\"text-align: right;\">\n",
       "      <th></th>\n",
       "      <th>PLAYER</th>\n",
       "      <th>POSITION</th>\n",
       "      <th>TEAM</th>\n",
       "      <th>SALARY</th>\n",
       "    </tr>\n",
       "  </thead>\n",
       "  <tbody>\n",
       "    <tr>\n",
       "      <th>169</th>\n",
       "      <td>Kobe Bryant</td>\n",
       "      <td>SF</td>\n",
       "      <td>Los Angeles Lakers</td>\n",
       "      <td>25.000000</td>\n",
       "    </tr>\n",
       "    <tr>\n",
       "      <th>29</th>\n",
       "      <td>Joe Johnson</td>\n",
       "      <td>SF</td>\n",
       "      <td>Brooklyn Nets</td>\n",
       "      <td>24.894863</td>\n",
       "    </tr>\n",
       "    <tr>\n",
       "      <th>72</th>\n",
       "      <td>LeBron James</td>\n",
       "      <td>SF</td>\n",
       "      <td>Cleveland Cavaliers</td>\n",
       "      <td>22.970500</td>\n",
       "    </tr>\n",
       "    <tr>\n",
       "      <th>255</th>\n",
       "      <td>Carmelo Anthony</td>\n",
       "      <td>SF</td>\n",
       "      <td>New York Knicks</td>\n",
       "      <td>22.875000</td>\n",
       "    </tr>\n",
       "    <tr>\n",
       "      <th>131</th>\n",
       "      <td>Dwight Howard</td>\n",
       "      <td>C</td>\n",
       "      <td>Houston Rockets</td>\n",
       "      <td>22.359364</td>\n",
       "    </tr>\n",
       "  </tbody>\n",
       "</table>\n",
       "</div>"
      ],
      "text/plain": [
       "              PLAYER POSITION                 TEAM     SALARY\n",
       "169      Kobe Bryant       SF   Los Angeles Lakers  25.000000\n",
       "29       Joe Johnson       SF        Brooklyn Nets  24.894863\n",
       "72      LeBron James       SF  Cleveland Cavaliers  22.970500\n",
       "255  Carmelo Anthony       SF      New York Knicks  22.875000\n",
       "131    Dwight Howard        C      Houston Rockets  22.359364"
      ]
     },
     "execution_count": 62,
     "metadata": {},
     "output_type": "execute_result"
    }
   ],
   "source": [
    "df_nba = pd.read_csv('nba_salaries2.csv')\n",
    "df_nba = df_nba.rename(columns={'2015-2016 SALARY':'SALARY'})\n",
    "df_nba.sort_values(by = ['SALARY'], axis=0, ascending=False).head(5) \n",
    "# or [:5]"
   ]
  },
  {
   "cell_type": "markdown",
   "id": "b002ebde",
   "metadata": {},
   "source": [
    "------------"
   ]
  },
  {
   "cell_type": "markdown",
   "id": "25e09728",
   "metadata": {},
   "source": [
    "# Selecting Rows"
   ]
  },
  {
   "cell_type": "code",
   "execution_count": 63,
   "id": "9867dbfe",
   "metadata": {},
   "outputs": [
    {
     "data": {
      "text/html": [
       "<table border=\"1\" class=\"dataframe\">\n",
       "    <thead>\n",
       "        <tr>\n",
       "            <th>PLAYER</th> <th>POSITION</th> <th>TEAM</th> <th>SALARY</th>\n",
       "        </tr>\n",
       "    </thead>\n",
       "    <tbody>\n",
       "        <tr>\n",
       "            <td>Paul Millsap    </td> <td>PF      </td> <td>Atlanta Hawks</td> <td>18.6717</td>\n",
       "        </tr>\n",
       "        <tr>\n",
       "            <td>Al Horford      </td> <td>C       </td> <td>Atlanta Hawks</td> <td>12     </td>\n",
       "        </tr>\n",
       "        <tr>\n",
       "            <td>Tiago Splitter  </td> <td>C       </td> <td>Atlanta Hawks</td> <td>9.75625</td>\n",
       "        </tr>\n",
       "        <tr>\n",
       "            <td>Jeff Teague     </td> <td>PG      </td> <td>Atlanta Hawks</td> <td>8      </td>\n",
       "        </tr>\n",
       "        <tr>\n",
       "            <td>Kyle Korver     </td> <td>SG      </td> <td>Atlanta Hawks</td> <td>5.74648</td>\n",
       "        </tr>\n",
       "        <tr>\n",
       "            <td>Thabo Sefolosha </td> <td>SF      </td> <td>Atlanta Hawks</td> <td>4      </td>\n",
       "        </tr>\n",
       "        <tr>\n",
       "            <td>Mike Scott      </td> <td>PF      </td> <td>Atlanta Hawks</td> <td>3.33333</td>\n",
       "        </tr>\n",
       "        <tr>\n",
       "            <td>Kent Bazemore   </td> <td>SF      </td> <td>Atlanta Hawks</td> <td>2      </td>\n",
       "        </tr>\n",
       "        <tr>\n",
       "            <td>Dennis Schroder </td> <td>PG      </td> <td>Atlanta Hawks</td> <td>1.7634 </td>\n",
       "        </tr>\n",
       "        <tr>\n",
       "            <td>Tim Hardaway Jr.</td> <td>SG      </td> <td>Atlanta Hawks</td> <td>1.30452</td>\n",
       "        </tr>\n",
       "    </tbody>\n",
       "</table>\n",
       "<p>... (407 rows omitted)</p>"
      ],
      "text/plain": [
       "PLAYER           | POSITION | TEAM          | SALARY\n",
       "Paul Millsap     | PF       | Atlanta Hawks | 18.6717\n",
       "Al Horford       | C        | Atlanta Hawks | 12\n",
       "Tiago Splitter   | C        | Atlanta Hawks | 9.75625\n",
       "Jeff Teague      | PG       | Atlanta Hawks | 8\n",
       "Kyle Korver      | SG       | Atlanta Hawks | 5.74648\n",
       "Thabo Sefolosha  | SF       | Atlanta Hawks | 4\n",
       "Mike Scott       | PF       | Atlanta Hawks | 3.33333\n",
       "Kent Bazemore    | SF       | Atlanta Hawks | 2\n",
       "Dennis Schroder  | PG       | Atlanta Hawks | 1.7634\n",
       "Tim Hardaway Jr. | SG       | Atlanta Hawks | 1.30452\n",
       "... (407 rows omitted)"
      ]
     },
     "execution_count": 63,
     "metadata": {},
     "output_type": "execute_result"
    }
   ],
   "source": [
    "nba"
   ]
  },
  {
   "cell_type": "code",
   "execution_count": 64,
   "id": "fa51401a",
   "metadata": {},
   "outputs": [
    {
     "data": {
      "text/html": [
       "<table border=\"1\" class=\"dataframe\">\n",
       "    <thead>\n",
       "        <tr>\n",
       "            <th>PLAYER</th> <th>POSITION</th> <th>TEAM</th> <th>SALARY</th>\n",
       "        </tr>\n",
       "    </thead>\n",
       "    <tbody>\n",
       "        <tr>\n",
       "            <td>Jeff Teague    </td> <td>PG      </td> <td>Atlanta Hawks</td> <td>8      </td>\n",
       "        </tr>\n",
       "        <tr>\n",
       "            <td>Kyle Korver    </td> <td>SG      </td> <td>Atlanta Hawks</td> <td>5.74648</td>\n",
       "        </tr>\n",
       "        <tr>\n",
       "            <td>Thabo Sefolosha</td> <td>SF      </td> <td>Atlanta Hawks</td> <td>4      </td>\n",
       "        </tr>\n",
       "    </tbody>\n",
       "</table>"
      ],
      "text/plain": [
       "PLAYER          | POSITION | TEAM          | SALARY\n",
       "Jeff Teague     | PG       | Atlanta Hawks | 8\n",
       "Kyle Korver     | SG       | Atlanta Hawks | 5.74648\n",
       "Thabo Sefolosha | SF       | Atlanta Hawks | 4"
      ]
     },
     "execution_count": 64,
     "metadata": {},
     "output_type": "execute_result"
    }
   ],
   "source": [
    "nba.take(np.arange(3, 6))"
   ]
  },
  {
   "cell_type": "code",
   "execution_count": 65,
   "id": "29f05786",
   "metadata": {},
   "outputs": [
    {
     "data": {
      "text/html": [
       "<div>\n",
       "<style scoped>\n",
       "    .dataframe tbody tr th:only-of-type {\n",
       "        vertical-align: middle;\n",
       "    }\n",
       "\n",
       "    .dataframe tbody tr th {\n",
       "        vertical-align: top;\n",
       "    }\n",
       "\n",
       "    .dataframe thead th {\n",
       "        text-align: right;\n",
       "    }\n",
       "</style>\n",
       "<table border=\"1\" class=\"dataframe\">\n",
       "  <thead>\n",
       "    <tr style=\"text-align: right;\">\n",
       "      <th></th>\n",
       "      <th>PLAYER</th>\n",
       "      <th>POSITION</th>\n",
       "      <th>TEAM</th>\n",
       "      <th>SALARY</th>\n",
       "    </tr>\n",
       "  </thead>\n",
       "  <tbody>\n",
       "    <tr>\n",
       "      <th>0</th>\n",
       "      <td>Paul Millsap</td>\n",
       "      <td>PF</td>\n",
       "      <td>Atlanta Hawks</td>\n",
       "      <td>18.671659</td>\n",
       "    </tr>\n",
       "    <tr>\n",
       "      <th>1</th>\n",
       "      <td>Al Horford</td>\n",
       "      <td>C</td>\n",
       "      <td>Atlanta Hawks</td>\n",
       "      <td>12.000000</td>\n",
       "    </tr>\n",
       "    <tr>\n",
       "      <th>2</th>\n",
       "      <td>Tiago Splitter</td>\n",
       "      <td>C</td>\n",
       "      <td>Atlanta Hawks</td>\n",
       "      <td>9.756250</td>\n",
       "    </tr>\n",
       "    <tr>\n",
       "      <th>3</th>\n",
       "      <td>Jeff Teague</td>\n",
       "      <td>PG</td>\n",
       "      <td>Atlanta Hawks</td>\n",
       "      <td>8.000000</td>\n",
       "    </tr>\n",
       "    <tr>\n",
       "      <th>4</th>\n",
       "      <td>Kyle Korver</td>\n",
       "      <td>SG</td>\n",
       "      <td>Atlanta Hawks</td>\n",
       "      <td>5.746479</td>\n",
       "    </tr>\n",
       "    <tr>\n",
       "      <th>...</th>\n",
       "      <td>...</td>\n",
       "      <td>...</td>\n",
       "      <td>...</td>\n",
       "      <td>...</td>\n",
       "    </tr>\n",
       "    <tr>\n",
       "      <th>412</th>\n",
       "      <td>Gary Neal</td>\n",
       "      <td>PG</td>\n",
       "      <td>Washington Wizards</td>\n",
       "      <td>2.139000</td>\n",
       "    </tr>\n",
       "    <tr>\n",
       "      <th>413</th>\n",
       "      <td>DeJuan Blair</td>\n",
       "      <td>C</td>\n",
       "      <td>Washington Wizards</td>\n",
       "      <td>2.000000</td>\n",
       "    </tr>\n",
       "    <tr>\n",
       "      <th>414</th>\n",
       "      <td>Kelly Oubre Jr.</td>\n",
       "      <td>SF</td>\n",
       "      <td>Washington Wizards</td>\n",
       "      <td>1.920240</td>\n",
       "    </tr>\n",
       "    <tr>\n",
       "      <th>415</th>\n",
       "      <td>Garrett Temple</td>\n",
       "      <td>SG</td>\n",
       "      <td>Washington Wizards</td>\n",
       "      <td>1.100602</td>\n",
       "    </tr>\n",
       "    <tr>\n",
       "      <th>416</th>\n",
       "      <td>Jarell Eddie</td>\n",
       "      <td>SG</td>\n",
       "      <td>Washington Wizards</td>\n",
       "      <td>0.561716</td>\n",
       "    </tr>\n",
       "  </tbody>\n",
       "</table>\n",
       "<p>417 rows × 4 columns</p>\n",
       "</div>"
      ],
      "text/plain": [
       "              PLAYER POSITION                TEAM     SALARY\n",
       "0       Paul Millsap       PF       Atlanta Hawks  18.671659\n",
       "1         Al Horford        C       Atlanta Hawks  12.000000\n",
       "2     Tiago Splitter        C       Atlanta Hawks   9.756250\n",
       "3        Jeff Teague       PG       Atlanta Hawks   8.000000\n",
       "4        Kyle Korver       SG       Atlanta Hawks   5.746479\n",
       "..               ...      ...                 ...        ...\n",
       "412        Gary Neal       PG  Washington Wizards   2.139000\n",
       "413     DeJuan Blair        C  Washington Wizards   2.000000\n",
       "414  Kelly Oubre Jr.       SF  Washington Wizards   1.920240\n",
       "415   Garrett Temple       SG  Washington Wizards   1.100602\n",
       "416     Jarell Eddie       SG  Washington Wizards   0.561716\n",
       "\n",
       "[417 rows x 4 columns]"
      ]
     },
     "execution_count": 65,
     "metadata": {},
     "output_type": "execute_result"
    }
   ],
   "source": [
    "df_nba"
   ]
  },
  {
   "cell_type": "code",
   "execution_count": 66,
   "id": "09ffdff2",
   "metadata": {},
   "outputs": [
    {
     "data": {
      "text/html": [
       "<div>\n",
       "<style scoped>\n",
       "    .dataframe tbody tr th:only-of-type {\n",
       "        vertical-align: middle;\n",
       "    }\n",
       "\n",
       "    .dataframe tbody tr th {\n",
       "        vertical-align: top;\n",
       "    }\n",
       "\n",
       "    .dataframe thead th {\n",
       "        text-align: right;\n",
       "    }\n",
       "</style>\n",
       "<table border=\"1\" class=\"dataframe\">\n",
       "  <thead>\n",
       "    <tr style=\"text-align: right;\">\n",
       "      <th></th>\n",
       "      <th>PLAYER</th>\n",
       "      <th>POSITION</th>\n",
       "      <th>TEAM</th>\n",
       "      <th>SALARY</th>\n",
       "    </tr>\n",
       "  </thead>\n",
       "  <tbody>\n",
       "    <tr>\n",
       "      <th>3</th>\n",
       "      <td>Jeff Teague</td>\n",
       "      <td>PG</td>\n",
       "      <td>Atlanta Hawks</td>\n",
       "      <td>8.000000</td>\n",
       "    </tr>\n",
       "    <tr>\n",
       "      <th>4</th>\n",
       "      <td>Kyle Korver</td>\n",
       "      <td>SG</td>\n",
       "      <td>Atlanta Hawks</td>\n",
       "      <td>5.746479</td>\n",
       "    </tr>\n",
       "    <tr>\n",
       "      <th>5</th>\n",
       "      <td>Thabo Sefolosha</td>\n",
       "      <td>SF</td>\n",
       "      <td>Atlanta Hawks</td>\n",
       "      <td>4.000000</td>\n",
       "    </tr>\n",
       "  </tbody>\n",
       "</table>\n",
       "</div>"
      ],
      "text/plain": [
       "            PLAYER POSITION           TEAM    SALARY\n",
       "3      Jeff Teague       PG  Atlanta Hawks  8.000000\n",
       "4      Kyle Korver       SG  Atlanta Hawks  5.746479\n",
       "5  Thabo Sefolosha       SF  Atlanta Hawks  4.000000"
      ]
     },
     "execution_count": 66,
     "metadata": {},
     "output_type": "execute_result"
    }
   ],
   "source": [
    "df_nba[3:6]"
   ]
  },
  {
   "cell_type": "code",
   "execution_count": 67,
   "id": "a45c4063",
   "metadata": {},
   "outputs": [
    {
     "data": {
      "text/html": [
       "<table border=\"1\" class=\"dataframe\">\n",
       "    <thead>\n",
       "        <tr>\n",
       "            <th>PLAYER</th> <th>POSITION</th> <th>TEAM</th> <th>SALARY</th>\n",
       "        </tr>\n",
       "    </thead>\n",
       "    <tbody>\n",
       "        <tr>\n",
       "            <td>Kobe Bryant    </td> <td>SF      </td> <td>Los Angeles Lakers   </td> <td>25     </td>\n",
       "        </tr>\n",
       "        <tr>\n",
       "            <td>Joe Johnson    </td> <td>SF      </td> <td>Brooklyn Nets        </td> <td>24.8949</td>\n",
       "        </tr>\n",
       "        <tr>\n",
       "            <td>LeBron James   </td> <td>SF      </td> <td>Cleveland Cavaliers  </td> <td>22.9705</td>\n",
       "        </tr>\n",
       "        <tr>\n",
       "            <td>Carmelo Anthony</td> <td>SF      </td> <td>New York Knicks      </td> <td>22.875 </td>\n",
       "        </tr>\n",
       "        <tr>\n",
       "            <td>Dwight Howard  </td> <td>C       </td> <td>Houston Rockets      </td> <td>22.3594</td>\n",
       "        </tr>\n",
       "        <tr>\n",
       "            <td>Chris Bosh     </td> <td>PF      </td> <td>Miami Heat           </td> <td>22.1927</td>\n",
       "        </tr>\n",
       "        <tr>\n",
       "            <td>Chris Paul     </td> <td>PG      </td> <td>Los Angeles Clippers </td> <td>21.4687</td>\n",
       "        </tr>\n",
       "        <tr>\n",
       "            <td>Kevin Durant   </td> <td>SF      </td> <td>Oklahoma City Thunder</td> <td>20.1586</td>\n",
       "        </tr>\n",
       "        <tr>\n",
       "            <td>Derrick Rose   </td> <td>PG      </td> <td>Chicago Bulls        </td> <td>20.0931</td>\n",
       "        </tr>\n",
       "        <tr>\n",
       "            <td>Dwyane Wade    </td> <td>SG      </td> <td>Miami Heat           </td> <td>20     </td>\n",
       "        </tr>\n",
       "    </tbody>\n",
       "</table>\n",
       "<p>... (59 rows omitted)</p>"
      ],
      "text/plain": [
       "PLAYER          | POSITION | TEAM                  | SALARY\n",
       "Kobe Bryant     | SF       | Los Angeles Lakers    | 25\n",
       "Joe Johnson     | SF       | Brooklyn Nets         | 24.8949\n",
       "LeBron James    | SF       | Cleveland Cavaliers   | 22.9705\n",
       "Carmelo Anthony | SF       | New York Knicks       | 22.875\n",
       "Dwight Howard   | C        | Houston Rockets       | 22.3594\n",
       "Chris Bosh      | PF       | Miami Heat            | 22.1927\n",
       "Chris Paul      | PG       | Los Angeles Clippers  | 21.4687\n",
       "Kevin Durant    | SF       | Oklahoma City Thunder | 20.1586\n",
       "Derrick Rose    | PG       | Chicago Bulls         | 20.0931\n",
       "Dwyane Wade     | SG       | Miami Heat            | 20\n",
       "... (59 rows omitted)"
      ]
     },
     "execution_count": 67,
     "metadata": {},
     "output_type": "execute_result"
    }
   ],
   "source": [
    "nba.where('SALARY', are.above(10)).sort('SALARY', True)"
   ]
  },
  {
   "cell_type": "code",
   "execution_count": 68,
   "id": "b4b30ece",
   "metadata": {},
   "outputs": [
    {
     "data": {
      "text/html": [
       "<div>\n",
       "<style scoped>\n",
       "    .dataframe tbody tr th:only-of-type {\n",
       "        vertical-align: middle;\n",
       "    }\n",
       "\n",
       "    .dataframe tbody tr th {\n",
       "        vertical-align: top;\n",
       "    }\n",
       "\n",
       "    .dataframe thead th {\n",
       "        text-align: right;\n",
       "    }\n",
       "</style>\n",
       "<table border=\"1\" class=\"dataframe\">\n",
       "  <thead>\n",
       "    <tr style=\"text-align: right;\">\n",
       "      <th></th>\n",
       "      <th>PLAYER</th>\n",
       "      <th>POSITION</th>\n",
       "      <th>TEAM</th>\n",
       "      <th>SALARY</th>\n",
       "    </tr>\n",
       "  </thead>\n",
       "  <tbody>\n",
       "    <tr>\n",
       "      <th>169</th>\n",
       "      <td>Kobe Bryant</td>\n",
       "      <td>SF</td>\n",
       "      <td>Los Angeles Lakers</td>\n",
       "      <td>25.000000</td>\n",
       "    </tr>\n",
       "    <tr>\n",
       "      <th>29</th>\n",
       "      <td>Joe Johnson</td>\n",
       "      <td>SF</td>\n",
       "      <td>Brooklyn Nets</td>\n",
       "      <td>24.894863</td>\n",
       "    </tr>\n",
       "    <tr>\n",
       "      <th>72</th>\n",
       "      <td>LeBron James</td>\n",
       "      <td>SF</td>\n",
       "      <td>Cleveland Cavaliers</td>\n",
       "      <td>22.970500</td>\n",
       "    </tr>\n",
       "    <tr>\n",
       "      <th>255</th>\n",
       "      <td>Carmelo Anthony</td>\n",
       "      <td>SF</td>\n",
       "      <td>New York Knicks</td>\n",
       "      <td>22.875000</td>\n",
       "    </tr>\n",
       "    <tr>\n",
       "      <th>131</th>\n",
       "      <td>Dwight Howard</td>\n",
       "      <td>C</td>\n",
       "      <td>Houston Rockets</td>\n",
       "      <td>22.359364</td>\n",
       "    </tr>\n",
       "    <tr>\n",
       "      <th>...</th>\n",
       "      <td>...</td>\n",
       "      <td>...</td>\n",
       "      <td>...</td>\n",
       "      <td>...</td>\n",
       "    </tr>\n",
       "    <tr>\n",
       "      <th>95</th>\n",
       "      <td>Wilson Chandler</td>\n",
       "      <td>SF</td>\n",
       "      <td>Denver Nuggets</td>\n",
       "      <td>10.449438</td>\n",
       "    </tr>\n",
       "    <tr>\n",
       "      <th>144</th>\n",
       "      <td>Monta Ellis</td>\n",
       "      <td>SG</td>\n",
       "      <td>Indiana Pacers</td>\n",
       "      <td>10.300000</td>\n",
       "    </tr>\n",
       "    <tr>\n",
       "      <th>204</th>\n",
       "      <td>Luol Deng</td>\n",
       "      <td>SF</td>\n",
       "      <td>Miami Heat</td>\n",
       "      <td>10.151612</td>\n",
       "    </tr>\n",
       "    <tr>\n",
       "      <th>298</th>\n",
       "      <td>Gerald Wallace</td>\n",
       "      <td>SF</td>\n",
       "      <td>Philadelphia 76ers</td>\n",
       "      <td>10.105855</td>\n",
       "    </tr>\n",
       "    <tr>\n",
       "      <th>368</th>\n",
       "      <td>DeMar DeRozan</td>\n",
       "      <td>SG</td>\n",
       "      <td>Toronto Raptors</td>\n",
       "      <td>10.050000</td>\n",
       "    </tr>\n",
       "  </tbody>\n",
       "</table>\n",
       "<p>69 rows × 4 columns</p>\n",
       "</div>"
      ],
      "text/plain": [
       "              PLAYER POSITION                 TEAM     SALARY\n",
       "169      Kobe Bryant       SF   Los Angeles Lakers  25.000000\n",
       "29       Joe Johnson       SF        Brooklyn Nets  24.894863\n",
       "72      LeBron James       SF  Cleveland Cavaliers  22.970500\n",
       "255  Carmelo Anthony       SF      New York Knicks  22.875000\n",
       "131    Dwight Howard        C      Houston Rockets  22.359364\n",
       "..               ...      ...                  ...        ...\n",
       "95   Wilson Chandler       SF       Denver Nuggets  10.449438\n",
       "144      Monta Ellis       SG       Indiana Pacers  10.300000\n",
       "204        Luol Deng       SF           Miami Heat  10.151612\n",
       "298   Gerald Wallace       SF   Philadelphia 76ers  10.105855\n",
       "368    DeMar DeRozan       SG      Toronto Raptors  10.050000\n",
       "\n",
       "[69 rows x 4 columns]"
      ]
     },
     "execution_count": 68,
     "metadata": {},
     "output_type": "execute_result"
    }
   ],
   "source": [
    "df_nba[df_nba['SALARY']>10].sort_values(by=['SALARY'], ascending=False)"
   ]
  },
  {
   "cell_type": "code",
   "execution_count": 69,
   "id": "a7f4144f",
   "metadata": {},
   "outputs": [
    {
     "data": {
      "text/plain": [
       "'Golden State Warriors'"
      ]
     },
     "execution_count": 69,
     "metadata": {},
     "output_type": "execute_result"
    }
   ],
   "source": [
    "# get the team name\n",
    "team_name = nba.where('PLAYER',are.equal_to('Stephen Curry')).column('TEAM').item(0)\n",
    "team_name"
   ]
  },
  {
   "cell_type": "code",
   "execution_count": 70,
   "id": "9a782b5c",
   "metadata": {},
   "outputs": [
    {
     "data": {
      "text/html": [
       "<table border=\"1\" class=\"dataframe\">\n",
       "    <thead>\n",
       "        <tr>\n",
       "            <th>PLAYER</th> <th>POSITION</th> <th>TEAM</th> <th>SALARY</th>\n",
       "        </tr>\n",
       "    </thead>\n",
       "    <tbody>\n",
       "        <tr>\n",
       "            <td>Klay Thompson    </td> <td>SG      </td> <td>Golden State Warriors</td> <td>15.501  </td>\n",
       "        </tr>\n",
       "        <tr>\n",
       "            <td>Draymond Green   </td> <td>PF      </td> <td>Golden State Warriors</td> <td>14.2609 </td>\n",
       "        </tr>\n",
       "        <tr>\n",
       "            <td>Andrew Bogut     </td> <td>C       </td> <td>Golden State Warriors</td> <td>13.8    </td>\n",
       "        </tr>\n",
       "        <tr>\n",
       "            <td>Andre Iguodala   </td> <td>SF      </td> <td>Golden State Warriors</td> <td>11.7105 </td>\n",
       "        </tr>\n",
       "        <tr>\n",
       "            <td>Stephen Curry    </td> <td>PG      </td> <td>Golden State Warriors</td> <td>11.3708 </td>\n",
       "        </tr>\n",
       "        <tr>\n",
       "            <td>Jason Thompson   </td> <td>PF      </td> <td>Golden State Warriors</td> <td>7.00847 </td>\n",
       "        </tr>\n",
       "        <tr>\n",
       "            <td>Shaun Livingston </td> <td>PG      </td> <td>Golden State Warriors</td> <td>5.54373 </td>\n",
       "        </tr>\n",
       "        <tr>\n",
       "            <td>Harrison Barnes  </td> <td>SF      </td> <td>Golden State Warriors</td> <td>3.8734  </td>\n",
       "        </tr>\n",
       "        <tr>\n",
       "            <td>Marreese Speights</td> <td>C       </td> <td>Golden State Warriors</td> <td>3.815   </td>\n",
       "        </tr>\n",
       "        <tr>\n",
       "            <td>Leandro Barbosa  </td> <td>SG      </td> <td>Golden State Warriors</td> <td>2.5     </td>\n",
       "        </tr>\n",
       "        <tr>\n",
       "            <td>Festus Ezeli     </td> <td>C       </td> <td>Golden State Warriors</td> <td>2.00875 </td>\n",
       "        </tr>\n",
       "        <tr>\n",
       "            <td>Brandon Rush     </td> <td>SF      </td> <td>Golden State Warriors</td> <td>1.27096 </td>\n",
       "        </tr>\n",
       "        <tr>\n",
       "            <td>Kevon Looney     </td> <td>SF      </td> <td>Golden State Warriors</td> <td>1.13196 </td>\n",
       "        </tr>\n",
       "        <tr>\n",
       "            <td>Anderson Varejao </td> <td>PF      </td> <td>Golden State Warriors</td> <td>0.289755</td>\n",
       "        </tr>\n",
       "    </tbody>\n",
       "</table>"
      ],
      "text/plain": [
       "<IPython.core.display.HTML object>"
      ]
     },
     "metadata": {},
     "output_type": "display_data"
    }
   ],
   "source": [
    "# extract players\n",
    "nba.where('TEAM', are.equal_to(team_name)).show()"
   ]
  },
  {
   "cell_type": "code",
   "execution_count": 71,
   "id": "099ef9e0",
   "metadata": {},
   "outputs": [
    {
     "data": {
      "text/html": [
       "<table border=\"1\" class=\"dataframe\">\n",
       "    <thead>\n",
       "        <tr>\n",
       "            <th>PLAYER</th> <th>POSITION</th> <th>TEAM</th> <th>SALARY</th>\n",
       "        </tr>\n",
       "    </thead>\n",
       "    <tbody>\n",
       "        <tr>\n",
       "            <td>Danilo Gallinari </td> <td>SF      </td> <td>Denver Nuggets</td> <td>14     </td>\n",
       "        </tr>\n",
       "        <tr>\n",
       "            <td>Kenneth Faried   </td> <td>PF      </td> <td>Denver Nuggets</td> <td>11.236 </td>\n",
       "        </tr>\n",
       "        <tr>\n",
       "            <td>Wilson Chandler  </td> <td>SF      </td> <td>Denver Nuggets</td> <td>10.4494</td>\n",
       "        </tr>\n",
       "        <tr>\n",
       "            <td>JJ Hickson       </td> <td>C       </td> <td>Denver Nuggets</td> <td>5.6135 </td>\n",
       "        </tr>\n",
       "        <tr>\n",
       "            <td>Jameer Nelson    </td> <td>PG      </td> <td>Denver Nuggets</td> <td>4.345  </td>\n",
       "        </tr>\n",
       "        <tr>\n",
       "            <td>Will Barton      </td> <td>SF      </td> <td>Denver Nuggets</td> <td>3.53333</td>\n",
       "        </tr>\n",
       "        <tr>\n",
       "            <td>Emmanuel Mudiay  </td> <td>PG      </td> <td>Denver Nuggets</td> <td>3.10224</td>\n",
       "        </tr>\n",
       "        <tr>\n",
       "            <td>Darrell Arthur   </td> <td>PF      </td> <td>Denver Nuggets</td> <td>2.814  </td>\n",
       "        </tr>\n",
       "        <tr>\n",
       "            <td>Jusuf Nurkic     </td> <td>C       </td> <td>Denver Nuggets</td> <td>1.842  </td>\n",
       "        </tr>\n",
       "        <tr>\n",
       "            <td>Joffrey Lauvergne</td> <td>C       </td> <td>Denver Nuggets</td> <td>1.70972</td>\n",
       "        </tr>\n",
       "    </tbody>\n",
       "</table>\n",
       "<p>... (4 rows omitted)</p>"
      ],
      "text/plain": [
       "PLAYER            | POSITION | TEAM           | SALARY\n",
       "Danilo Gallinari  | SF       | Denver Nuggets | 14\n",
       "Kenneth Faried    | PF       | Denver Nuggets | 11.236\n",
       "Wilson Chandler   | SF       | Denver Nuggets | 10.4494\n",
       "JJ Hickson        | C        | Denver Nuggets | 5.6135\n",
       "Jameer Nelson     | PG       | Denver Nuggets | 4.345\n",
       "Will Barton       | SF       | Denver Nuggets | 3.53333\n",
       "Emmanuel Mudiay   | PG       | Denver Nuggets | 3.10224\n",
       "Darrell Arthur    | PF       | Denver Nuggets | 2.814\n",
       "Jusuf Nurkic      | C        | Denver Nuggets | 1.842\n",
       "Joffrey Lauvergne | C        | Denver Nuggets | 1.70972\n",
       "... (4 rows omitted)"
      ]
     },
     "execution_count": 71,
     "metadata": {},
     "output_type": "execute_result"
    }
   ],
   "source": [
    "# equivalent to nba.where('TEAM', are.equal_to('Denver Nuggets'))\n",
    "nba.where('TEAM', 'Denver Nuggets') "
   ]
  },
  {
   "cell_type": "code",
   "execution_count": 73,
   "id": "e32a31d1",
   "metadata": {},
   "outputs": [
    {
     "data": {
      "text/plain": [
       "'Golden State Warriors'"
      ]
     },
     "execution_count": 73,
     "metadata": {},
     "output_type": "execute_result"
    }
   ],
   "source": [
    "team_name = df_nba[df_nba['PLAYER']=='Stephen Curry']['TEAM'].iloc[0]\n",
    "team_name"
   ]
  },
  {
   "cell_type": "code",
   "execution_count": 74,
   "id": "76d024c1",
   "metadata": {},
   "outputs": [
    {
     "data": {
      "text/html": [
       "<div>\n",
       "<style scoped>\n",
       "    .dataframe tbody tr th:only-of-type {\n",
       "        vertical-align: middle;\n",
       "    }\n",
       "\n",
       "    .dataframe tbody tr th {\n",
       "        vertical-align: top;\n",
       "    }\n",
       "\n",
       "    .dataframe thead th {\n",
       "        text-align: right;\n",
       "    }\n",
       "</style>\n",
       "<table border=\"1\" class=\"dataframe\">\n",
       "  <thead>\n",
       "    <tr style=\"text-align: right;\">\n",
       "      <th></th>\n",
       "      <th>PLAYER</th>\n",
       "      <th>POSITION</th>\n",
       "      <th>TEAM</th>\n",
       "      <th>SALARY</th>\n",
       "    </tr>\n",
       "  </thead>\n",
       "  <tbody>\n",
       "    <tr>\n",
       "      <th>117</th>\n",
       "      <td>Klay Thompson</td>\n",
       "      <td>SG</td>\n",
       "      <td>Golden State Warriors</td>\n",
       "      <td>15.501000</td>\n",
       "    </tr>\n",
       "    <tr>\n",
       "      <th>118</th>\n",
       "      <td>Draymond Green</td>\n",
       "      <td>PF</td>\n",
       "      <td>Golden State Warriors</td>\n",
       "      <td>14.260870</td>\n",
       "    </tr>\n",
       "    <tr>\n",
       "      <th>119</th>\n",
       "      <td>Andrew Bogut</td>\n",
       "      <td>C</td>\n",
       "      <td>Golden State Warriors</td>\n",
       "      <td>13.800000</td>\n",
       "    </tr>\n",
       "    <tr>\n",
       "      <th>120</th>\n",
       "      <td>Andre Iguodala</td>\n",
       "      <td>SF</td>\n",
       "      <td>Golden State Warriors</td>\n",
       "      <td>11.710456</td>\n",
       "    </tr>\n",
       "    <tr>\n",
       "      <th>121</th>\n",
       "      <td>Stephen Curry</td>\n",
       "      <td>PG</td>\n",
       "      <td>Golden State Warriors</td>\n",
       "      <td>11.370786</td>\n",
       "    </tr>\n",
       "    <tr>\n",
       "      <th>122</th>\n",
       "      <td>Jason Thompson</td>\n",
       "      <td>PF</td>\n",
       "      <td>Golden State Warriors</td>\n",
       "      <td>7.008475</td>\n",
       "    </tr>\n",
       "    <tr>\n",
       "      <th>123</th>\n",
       "      <td>Shaun Livingston</td>\n",
       "      <td>PG</td>\n",
       "      <td>Golden State Warriors</td>\n",
       "      <td>5.543725</td>\n",
       "    </tr>\n",
       "    <tr>\n",
       "      <th>124</th>\n",
       "      <td>Harrison Barnes</td>\n",
       "      <td>SF</td>\n",
       "      <td>Golden State Warriors</td>\n",
       "      <td>3.873398</td>\n",
       "    </tr>\n",
       "    <tr>\n",
       "      <th>125</th>\n",
       "      <td>Marreese Speights</td>\n",
       "      <td>C</td>\n",
       "      <td>Golden State Warriors</td>\n",
       "      <td>3.815000</td>\n",
       "    </tr>\n",
       "    <tr>\n",
       "      <th>126</th>\n",
       "      <td>Leandro Barbosa</td>\n",
       "      <td>SG</td>\n",
       "      <td>Golden State Warriors</td>\n",
       "      <td>2.500000</td>\n",
       "    </tr>\n",
       "    <tr>\n",
       "      <th>127</th>\n",
       "      <td>Festus Ezeli</td>\n",
       "      <td>C</td>\n",
       "      <td>Golden State Warriors</td>\n",
       "      <td>2.008748</td>\n",
       "    </tr>\n",
       "    <tr>\n",
       "      <th>128</th>\n",
       "      <td>Brandon Rush</td>\n",
       "      <td>SF</td>\n",
       "      <td>Golden State Warriors</td>\n",
       "      <td>1.270964</td>\n",
       "    </tr>\n",
       "    <tr>\n",
       "      <th>129</th>\n",
       "      <td>Kevon Looney</td>\n",
       "      <td>SF</td>\n",
       "      <td>Golden State Warriors</td>\n",
       "      <td>1.131960</td>\n",
       "    </tr>\n",
       "    <tr>\n",
       "      <th>130</th>\n",
       "      <td>Anderson Varejao</td>\n",
       "      <td>PF</td>\n",
       "      <td>Golden State Warriors</td>\n",
       "      <td>0.289755</td>\n",
       "    </tr>\n",
       "  </tbody>\n",
       "</table>\n",
       "</div>"
      ],
      "text/plain": [
       "                PLAYER POSITION                   TEAM     SALARY\n",
       "117      Klay Thompson       SG  Golden State Warriors  15.501000\n",
       "118     Draymond Green       PF  Golden State Warriors  14.260870\n",
       "119       Andrew Bogut        C  Golden State Warriors  13.800000\n",
       "120     Andre Iguodala       SF  Golden State Warriors  11.710456\n",
       "121      Stephen Curry       PG  Golden State Warriors  11.370786\n",
       "122     Jason Thompson       PF  Golden State Warriors   7.008475\n",
       "123   Shaun Livingston       PG  Golden State Warriors   5.543725\n",
       "124    Harrison Barnes       SF  Golden State Warriors   3.873398\n",
       "125  Marreese Speights        C  Golden State Warriors   3.815000\n",
       "126    Leandro Barbosa       SG  Golden State Warriors   2.500000\n",
       "127       Festus Ezeli        C  Golden State Warriors   2.008748\n",
       "128       Brandon Rush       SF  Golden State Warriors   1.270964\n",
       "129       Kevon Looney       SF  Golden State Warriors   1.131960\n",
       "130   Anderson Varejao       PF  Golden State Warriors   0.289755"
      ]
     },
     "execution_count": 74,
     "metadata": {},
     "output_type": "execute_result"
    }
   ],
   "source": [
    "df_nba[df_nba['TEAM']==team_name]"
   ]
  },
  {
   "cell_type": "code",
   "execution_count": 75,
   "id": "fd18108e",
   "metadata": {},
   "outputs": [
    {
     "data": {
      "text/html": [
       "<table border=\"1\" class=\"dataframe\">\n",
       "    <thead>\n",
       "        <tr>\n",
       "            <th>PLAYER</th> <th>POSITION</th> <th>TEAM</th> <th>SALARY</th>\n",
       "        </tr>\n",
       "    </thead>\n",
       "    <tbody>\n",
       "        <tr>\n",
       "            <td>Stephen Curry</td> <td>PG      </td> <td>Golden State Warriors</td> <td>11.3708</td>\n",
       "        </tr>\n",
       "        <tr>\n",
       "            <td>Jrue Holiday </td> <td>PG      </td> <td>New Orleans Pelicans </td> <td>10.5955</td>\n",
       "        </tr>\n",
       "    </tbody>\n",
       "</table>"
      ],
      "text/plain": [
       "PLAYER        | POSITION | TEAM                  | SALARY\n",
       "Stephen Curry | PG       | Golden State Warriors | 11.3708\n",
       "Jrue Holiday  | PG       | New Orleans Pelicans  | 10.5955"
      ]
     },
     "execution_count": 75,
     "metadata": {},
     "output_type": "execute_result"
    }
   ],
   "source": [
    "nba.where('POSITION','PG').where('SALARY', are.between(10,12))"
   ]
  },
  {
   "cell_type": "code",
   "execution_count": 76,
   "id": "cac163e3",
   "metadata": {},
   "outputs": [
    {
     "data": {
      "text/html": [
       "<div>\n",
       "<style scoped>\n",
       "    .dataframe tbody tr th:only-of-type {\n",
       "        vertical-align: middle;\n",
       "    }\n",
       "\n",
       "    .dataframe tbody tr th {\n",
       "        vertical-align: top;\n",
       "    }\n",
       "\n",
       "    .dataframe thead th {\n",
       "        text-align: right;\n",
       "    }\n",
       "</style>\n",
       "<table border=\"1\" class=\"dataframe\">\n",
       "  <thead>\n",
       "    <tr style=\"text-align: right;\">\n",
       "      <th></th>\n",
       "      <th>PLAYER</th>\n",
       "      <th>POSITION</th>\n",
       "      <th>TEAM</th>\n",
       "      <th>SALARY</th>\n",
       "    </tr>\n",
       "  </thead>\n",
       "  <tbody>\n",
       "    <tr>\n",
       "      <th>121</th>\n",
       "      <td>Stephen Curry</td>\n",
       "      <td>PG</td>\n",
       "      <td>Golden State Warriors</td>\n",
       "      <td>11.370786</td>\n",
       "    </tr>\n",
       "    <tr>\n",
       "      <th>241</th>\n",
       "      <td>Jrue Holiday</td>\n",
       "      <td>PG</td>\n",
       "      <td>New Orleans Pelicans</td>\n",
       "      <td>10.595507</td>\n",
       "    </tr>\n",
       "  </tbody>\n",
       "</table>\n",
       "</div>"
      ],
      "text/plain": [
       "            PLAYER POSITION                   TEAM     SALARY\n",
       "121  Stephen Curry       PG  Golden State Warriors  11.370786\n",
       "241   Jrue Holiday       PG   New Orleans Pelicans  10.595507"
      ]
     },
     "execution_count": 76,
     "metadata": {},
     "output_type": "execute_result"
    }
   ],
   "source": [
    "df_nba[(df_nba['POSITION']=='PG') & (10<=df_nba['SALARY']) & (df_nba['SALARY']<12)]"
   ]
  },
  {
   "cell_type": "code",
   "execution_count": 77,
   "id": "b7cb97d4",
   "metadata": {},
   "outputs": [
    {
     "data": {
      "text/html": [
       "<table border=\"1\" class=\"dataframe\">\n",
       "    <thead>\n",
       "        <tr>\n",
       "            <th>PLAYER</th> <th>POSITION</th> <th>TEAM</th> <th>SALARY</th>\n",
       "        </tr>\n",
       "    </thead>\n",
       "    <tbody>\n",
       "    </tbody>\n",
       "</table>"
      ],
      "text/plain": [
       "PLAYER | POSITION | TEAM | SALARY"
      ]
     },
     "execution_count": 77,
     "metadata": {},
     "output_type": "execute_result"
    }
   ],
   "source": [
    "nba.where('PLAYER', are.equal_to('Barack Obama'))"
   ]
  },
  {
   "cell_type": "code",
   "execution_count": 78,
   "id": "cc8c5180",
   "metadata": {},
   "outputs": [
    {
     "data": {
      "text/html": [
       "<table border=\"1\" class=\"dataframe\">\n",
       "    <thead>\n",
       "        <tr>\n",
       "            <th>PLAYER</th> <th>POSITION</th> <th>TEAM</th> <th>SALARY</th>\n",
       "        </tr>\n",
       "    </thead>\n",
       "    <tbody>\n",
       "        <tr>\n",
       "            <td>Klay Thompson    </td> <td>SG      </td> <td>Golden State Warriors</td> <td>15.501  </td>\n",
       "        </tr>\n",
       "        <tr>\n",
       "            <td>Draymond Green   </td> <td>PF      </td> <td>Golden State Warriors</td> <td>14.2609 </td>\n",
       "        </tr>\n",
       "        <tr>\n",
       "            <td>Andrew Bogut     </td> <td>C       </td> <td>Golden State Warriors</td> <td>13.8    </td>\n",
       "        </tr>\n",
       "        <tr>\n",
       "            <td>Andre Iguodala   </td> <td>SF      </td> <td>Golden State Warriors</td> <td>11.7105 </td>\n",
       "        </tr>\n",
       "        <tr>\n",
       "            <td>Stephen Curry    </td> <td>PG      </td> <td>Golden State Warriors</td> <td>11.3708 </td>\n",
       "        </tr>\n",
       "        <tr>\n",
       "            <td>Jason Thompson   </td> <td>PF      </td> <td>Golden State Warriors</td> <td>7.00847 </td>\n",
       "        </tr>\n",
       "        <tr>\n",
       "            <td>Shaun Livingston </td> <td>PG      </td> <td>Golden State Warriors</td> <td>5.54373 </td>\n",
       "        </tr>\n",
       "        <tr>\n",
       "            <td>Harrison Barnes  </td> <td>SF      </td> <td>Golden State Warriors</td> <td>3.8734  </td>\n",
       "        </tr>\n",
       "        <tr>\n",
       "            <td>Marreese Speights</td> <td>C       </td> <td>Golden State Warriors</td> <td>3.815   </td>\n",
       "        </tr>\n",
       "        <tr>\n",
       "            <td>Leandro Barbosa  </td> <td>SG      </td> <td>Golden State Warriors</td> <td>2.5     </td>\n",
       "        </tr>\n",
       "        <tr>\n",
       "            <td>Festus Ezeli     </td> <td>C       </td> <td>Golden State Warriors</td> <td>2.00875 </td>\n",
       "        </tr>\n",
       "        <tr>\n",
       "            <td>Brandon Rush     </td> <td>SF      </td> <td>Golden State Warriors</td> <td>1.27096 </td>\n",
       "        </tr>\n",
       "        <tr>\n",
       "            <td>Kevon Looney     </td> <td>SF      </td> <td>Golden State Warriors</td> <td>1.13196 </td>\n",
       "        </tr>\n",
       "        <tr>\n",
       "            <td>Anderson Varejao </td> <td>PF      </td> <td>Golden State Warriors</td> <td>0.289755</td>\n",
       "        </tr>\n",
       "    </tbody>\n",
       "</table>"
      ],
      "text/plain": [
       "<IPython.core.display.HTML object>"
      ]
     },
     "metadata": {},
     "output_type": "display_data"
    }
   ],
   "source": [
    "nba.where('TEAM', are.containing('Warriors')).show()"
   ]
  },
  {
   "cell_type": "code",
   "execution_count": 79,
   "id": "4eb64372",
   "metadata": {},
   "outputs": [
    {
     "data": {
      "text/html": [
       "<div>\n",
       "<style scoped>\n",
       "    .dataframe tbody tr th:only-of-type {\n",
       "        vertical-align: middle;\n",
       "    }\n",
       "\n",
       "    .dataframe tbody tr th {\n",
       "        vertical-align: top;\n",
       "    }\n",
       "\n",
       "    .dataframe thead th {\n",
       "        text-align: right;\n",
       "    }\n",
       "</style>\n",
       "<table border=\"1\" class=\"dataframe\">\n",
       "  <thead>\n",
       "    <tr style=\"text-align: right;\">\n",
       "      <th></th>\n",
       "      <th>PLAYER</th>\n",
       "      <th>POSITION</th>\n",
       "      <th>TEAM</th>\n",
       "      <th>SALARY</th>\n",
       "    </tr>\n",
       "  </thead>\n",
       "  <tbody>\n",
       "    <tr>\n",
       "      <th>117</th>\n",
       "      <td>Klay Thompson</td>\n",
       "      <td>SG</td>\n",
       "      <td>Golden State Warriors</td>\n",
       "      <td>15.501000</td>\n",
       "    </tr>\n",
       "    <tr>\n",
       "      <th>118</th>\n",
       "      <td>Draymond Green</td>\n",
       "      <td>PF</td>\n",
       "      <td>Golden State Warriors</td>\n",
       "      <td>14.260870</td>\n",
       "    </tr>\n",
       "    <tr>\n",
       "      <th>119</th>\n",
       "      <td>Andrew Bogut</td>\n",
       "      <td>C</td>\n",
       "      <td>Golden State Warriors</td>\n",
       "      <td>13.800000</td>\n",
       "    </tr>\n",
       "    <tr>\n",
       "      <th>120</th>\n",
       "      <td>Andre Iguodala</td>\n",
       "      <td>SF</td>\n",
       "      <td>Golden State Warriors</td>\n",
       "      <td>11.710456</td>\n",
       "    </tr>\n",
       "    <tr>\n",
       "      <th>121</th>\n",
       "      <td>Stephen Curry</td>\n",
       "      <td>PG</td>\n",
       "      <td>Golden State Warriors</td>\n",
       "      <td>11.370786</td>\n",
       "    </tr>\n",
       "    <tr>\n",
       "      <th>122</th>\n",
       "      <td>Jason Thompson</td>\n",
       "      <td>PF</td>\n",
       "      <td>Golden State Warriors</td>\n",
       "      <td>7.008475</td>\n",
       "    </tr>\n",
       "    <tr>\n",
       "      <th>123</th>\n",
       "      <td>Shaun Livingston</td>\n",
       "      <td>PG</td>\n",
       "      <td>Golden State Warriors</td>\n",
       "      <td>5.543725</td>\n",
       "    </tr>\n",
       "    <tr>\n",
       "      <th>124</th>\n",
       "      <td>Harrison Barnes</td>\n",
       "      <td>SF</td>\n",
       "      <td>Golden State Warriors</td>\n",
       "      <td>3.873398</td>\n",
       "    </tr>\n",
       "    <tr>\n",
       "      <th>125</th>\n",
       "      <td>Marreese Speights</td>\n",
       "      <td>C</td>\n",
       "      <td>Golden State Warriors</td>\n",
       "      <td>3.815000</td>\n",
       "    </tr>\n",
       "    <tr>\n",
       "      <th>126</th>\n",
       "      <td>Leandro Barbosa</td>\n",
       "      <td>SG</td>\n",
       "      <td>Golden State Warriors</td>\n",
       "      <td>2.500000</td>\n",
       "    </tr>\n",
       "    <tr>\n",
       "      <th>127</th>\n",
       "      <td>Festus Ezeli</td>\n",
       "      <td>C</td>\n",
       "      <td>Golden State Warriors</td>\n",
       "      <td>2.008748</td>\n",
       "    </tr>\n",
       "    <tr>\n",
       "      <th>128</th>\n",
       "      <td>Brandon Rush</td>\n",
       "      <td>SF</td>\n",
       "      <td>Golden State Warriors</td>\n",
       "      <td>1.270964</td>\n",
       "    </tr>\n",
       "    <tr>\n",
       "      <th>129</th>\n",
       "      <td>Kevon Looney</td>\n",
       "      <td>SF</td>\n",
       "      <td>Golden State Warriors</td>\n",
       "      <td>1.131960</td>\n",
       "    </tr>\n",
       "    <tr>\n",
       "      <th>130</th>\n",
       "      <td>Anderson Varejao</td>\n",
       "      <td>PF</td>\n",
       "      <td>Golden State Warriors</td>\n",
       "      <td>0.289755</td>\n",
       "    </tr>\n",
       "  </tbody>\n",
       "</table>\n",
       "</div>"
      ],
      "text/plain": [
       "                PLAYER POSITION                   TEAM     SALARY\n",
       "117      Klay Thompson       SG  Golden State Warriors  15.501000\n",
       "118     Draymond Green       PF  Golden State Warriors  14.260870\n",
       "119       Andrew Bogut        C  Golden State Warriors  13.800000\n",
       "120     Andre Iguodala       SF  Golden State Warriors  11.710456\n",
       "121      Stephen Curry       PG  Golden State Warriors  11.370786\n",
       "122     Jason Thompson       PF  Golden State Warriors   7.008475\n",
       "123   Shaun Livingston       PG  Golden State Warriors   5.543725\n",
       "124    Harrison Barnes       SF  Golden State Warriors   3.873398\n",
       "125  Marreese Speights        C  Golden State Warriors   3.815000\n",
       "126    Leandro Barbosa       SG  Golden State Warriors   2.500000\n",
       "127       Festus Ezeli        C  Golden State Warriors   2.008748\n",
       "128       Brandon Rush       SF  Golden State Warriors   1.270964\n",
       "129       Kevon Looney       SF  Golden State Warriors   1.131960\n",
       "130   Anderson Varejao       PF  Golden State Warriors   0.289755"
      ]
     },
     "execution_count": 79,
     "metadata": {},
     "output_type": "execute_result"
    }
   ],
   "source": [
    "df_nba[df_nba['TEAM'].str.contains('Warriors')]"
   ]
  },
  {
   "cell_type": "code",
   "execution_count": null,
   "id": "62c60443",
   "metadata": {},
   "outputs": [],
   "source": []
  }
 ],
 "metadata": {
  "kernelspec": {
   "display_name": "Python 3 (ipykernel)",
   "language": "python",
   "name": "python3"
  },
  "language_info": {
   "codemirror_mode": {
    "name": "ipython",
    "version": 3
   },
   "file_extension": ".py",
   "mimetype": "text/x-python",
   "name": "python",
   "nbconvert_exporter": "python",
   "pygments_lexer": "ipython3",
   "version": "3.8.8"
  }
 },
 "nbformat": 4,
 "nbformat_minor": 5
}
